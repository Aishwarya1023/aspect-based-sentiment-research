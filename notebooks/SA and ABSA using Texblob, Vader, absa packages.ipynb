{
 "cells": [
  {
   "cell_type": "markdown",
   "metadata": {},
   "source": [
    "## TextBlob for ABSA"
   ]
  },
  {
   "cell_type": "code",
   "execution_count": 11,
   "metadata": {
    "ExecuteTime": {
     "end_time": "2020-06-29T15:07:36.913999Z",
     "start_time": "2020-06-29T15:07:36.908277Z"
    }
   },
   "outputs": [],
   "source": [
    "#https://github.com/iamvishnuks/ABSA/blob/master/absa.py\n",
    "\n",
    "from textblob import TextBlob\n",
    "\n",
    "def get_aspect_sentiment(text):\n",
    "    blob=TextBlob(text)\n",
    "    tokens=list(blob.words)\n",
    "    word=[]\n",
    "    sent=[]\n",
    "    c=0\n",
    "    i=0\n",
    "    for words,pos in blob.tags:\n",
    "        if pos=='JJ' or pos=='NN' or pos=='JJR' or pos=='NNS':\n",
    "            word.append(words)\n",
    "    if len(word)>=2:\n",
    "    \tfor i in range(len(word)):\n",
    "    \t\tif len(word)>=2:\n",
    "\t    \t\tfirstw=word[0]\n",
    "\t    \t\tsecw=word[1]\n",
    "\t    \t\tword.remove(firstw)\n",
    "\t    \t\tword.remove(secw)\n",
    "\t    \t\tfindx=tokens.index(firstw)\n",
    "\t    \t\tlindx=tokens.index(secw)\n",
    "\t    \t\tsent.append(' '.join(tokens[findx:lindx+1]))\n",
    "\n",
    "    print(sent)   \n",
    "    for sentence in sent:\n",
    "        print(sentence,TextBlob(sentence).polarity)"
   ]
  },
  {
   "cell_type": "code",
   "execution_count": 12,
   "metadata": {
    "ExecuteTime": {
     "end_time": "2020-06-29T15:07:37.116057Z",
     "start_time": "2020-06-29T15:07:37.111790Z"
    }
   },
   "outputs": [
    {
     "name": "stdout",
     "output_type": "stream",
     "text": [
      "['food is good', 'ambience sucks']\n",
      "food is good 0.7\n",
      "ambience sucks -0.3\n"
     ]
    }
   ],
   "source": [
    "get_aspect_sentiment(\"the food is good but the ambience sucks\")"
   ]
  },
  {
   "cell_type": "markdown",
   "metadata": {},
   "source": [
    "## TextBlob for Sentiment"
   ]
  },
  {
   "cell_type": "code",
   "execution_count": 14,
   "metadata": {
    "ExecuteTime": {
     "end_time": "2020-06-29T15:09:17.253661Z",
     "start_time": "2020-06-29T15:09:17.251233Z"
    }
   },
   "outputs": [],
   "source": [
    "text1 = \"Food is good\"\n",
    "text2 = \"Ambience sucks\"\n",
    "text3 = \"the food is good but the ambience sucks\""
   ]
  },
  {
   "cell_type": "code",
   "execution_count": 15,
   "metadata": {
    "ExecuteTime": {
     "end_time": "2020-06-29T15:09:43.594327Z",
     "start_time": "2020-06-29T15:09:43.592138Z"
    }
   },
   "outputs": [],
   "source": [
    "blob1 = TextBlob(text1)\n",
    "blob2 = TextBlob(text2)\n",
    "blob3 = TextBlob(text3)"
   ]
  },
  {
   "cell_type": "code",
   "execution_count": 18,
   "metadata": {
    "ExecuteTime": {
     "end_time": "2020-06-29T15:10:20.125980Z",
     "start_time": "2020-06-29T15:10:20.123082Z"
    }
   },
   "outputs": [
    {
     "name": "stdout",
     "output_type": "stream",
     "text": [
      "Sentiment(polarity=0.7, subjectivity=0.6000000000000001)\n",
      "Sentiment(polarity=-0.3, subjectivity=0.3)\n",
      "Sentiment(polarity=0.19999999999999998, subjectivity=0.45000000000000007)\n"
     ]
    }
   ],
   "source": [
    "print(blob1.sentiment)\n",
    "print(blob2.sentiment)\n",
    "print(blob3.sentiment)"
   ]
  },
  {
   "cell_type": "markdown",
   "metadata": {},
   "source": [
    "## Vader for Sentiment"
   ]
  },
  {
   "cell_type": "code",
   "execution_count": 21,
   "metadata": {
    "ExecuteTime": {
     "end_time": "2020-06-29T15:12:25.756717Z",
     "start_time": "2020-06-29T15:12:25.747862Z"
    }
   },
   "outputs": [],
   "source": [
    "from vaderSentiment.vaderSentiment import SentimentIntensityAnalyzer"
   ]
  },
  {
   "cell_type": "code",
   "execution_count": 22,
   "metadata": {
    "ExecuteTime": {
     "end_time": "2020-06-29T15:15:38.300320Z",
     "start_time": "2020-06-29T15:15:38.297727Z"
    }
   },
   "outputs": [],
   "source": [
    "def sentiment_analyzer_scores(text):\n",
    "    score = analyser.polarity_scores(str(text))\n",
    "    return score"
   ]
  },
  {
   "cell_type": "code",
   "execution_count": 23,
   "metadata": {
    "ExecuteTime": {
     "end_time": "2020-06-29T15:15:39.012313Z",
     "start_time": "2020-06-29T15:15:38.978791Z"
    }
   },
   "outputs": [],
   "source": [
    "analyser = SentimentIntensityAnalyzer()"
   ]
  },
  {
   "cell_type": "code",
   "execution_count": 28,
   "metadata": {
    "ExecuteTime": {
     "end_time": "2020-06-29T15:16:45.047542Z",
     "start_time": "2020-06-29T15:16:45.044417Z"
    }
   },
   "outputs": [
    {
     "name": "stdout",
     "output_type": "stream",
     "text": [
      "{'neg': 0.0, 'neu': 0.408, 'pos': 0.592, 'compound': 0.4404}\n",
      "{'neg': 0.714, 'neu': 0.286, 'pos': 0.0, 'compound': -0.3612}\n",
      "{'neg': 0.29, 'neu': 0.536, 'pos': 0.174, 'compound': -0.3182}\n"
     ]
    }
   ],
   "source": [
    "print(analyser.polarity_scores(str(text1)))\n",
    "print(analyser.polarity_scores(str(text2)))\n",
    "print(analyser.polarity_scores(str(text3)))"
   ]
  },
  {
   "cell_type": "markdown",
   "metadata": {},
   "source": [
    "## absa PyPI for ABSA"
   ]
  },
  {
   "cell_type": "code",
   "execution_count": 1,
   "metadata": {
    "ExecuteTime": {
     "end_time": "2020-06-29T20:13:55.202025Z",
     "start_time": "2020-06-29T20:13:41.160776Z"
    }
   },
   "outputs": [],
   "source": [
    "import aspect_based_sentiment_analysis as absa\n",
    "\n",
    "#pip installation process of aspect-based-sentiment-analysis was unable to build wheels for wrapt and regex,\\\n",
    "# so these two were separately installed using conda, and then absa was pip installed.\n",
    "\n",
    "# Refer source code PredictedExample Class: \n",
    "# https://github.com/ScalaConsultants/Aspect-Based-Sentiment-Analysis/blob/05aa13b0458551abe5b1a875e63d0a2620c69e55/aspect_based_sentiment_analysis/data_types.py#L82"
   ]
  },
  {
   "cell_type": "code",
   "execution_count": 2,
   "metadata": {
    "ExecuteTime": {
     "end_time": "2020-06-29T20:13:58.634801Z",
     "start_time": "2020-06-29T20:13:55.208851Z"
    }
   },
   "outputs": [],
   "source": [
    "nlp = absa.load(pattern_recognizer=absa.probing.AttentionGradientProduct())\n",
    "\n",
    "text = (\"We are great fans of Slack, but we wish the subscriptions \"\n",
    "        \"were more accessible to small startups.\")\n",
    "\n",
    "slack, price = nlp(text, aspects=['slack', 'price'])\n",
    "assert price.sentiment == absa.Sentiment.negative\n",
    "assert slack.sentiment == absa.Sentiment.positive"
   ]
  },
  {
   "cell_type": "code",
   "execution_count": 8,
   "metadata": {
    "ExecuteTime": {
     "end_time": "2020-06-29T20:15:04.705971Z",
     "start_time": "2020-06-29T20:15:04.700698Z"
    }
   },
   "outputs": [
    {
     "data": {
      "text/html": [
       "Words connected with the \"slack\" aspect: <br> <span style=\"background-color:rgba(135,206,250,0.16538950762621285);\">we</span> <span style=\"background-color:rgba(135,206,250,0.03705461448305855);\">are</span> <span style=\"background-color:rgba(135,206,250,1.2499999999999991);\">great</span> <span style=\"background-color:rgba(135,206,250,0.034968260426336086);\">fans</span> <span style=\"background-color:rgba(135,206,250,0.3693993501590606);\">of</span> <span style=\"background-color:rgba(135,206,250,0.3716948083216622);\">slack</span> <span style=\"background-color:rgba(135,206,250,0.1298330124161142);\">,</span> <span style=\"background-color:rgba(135,206,250,0.021036820434864368);\">but</span> <span style=\"background-color:rgba(135,206,250,0.011292181259217705);\">we</span> <span style=\"background-color:rgba(135,206,250,0.2730007465559094);\">wish</span> <span style=\"background-color:rgba(135,206,250,0.13425773162321933);\">the</span> <span style=\"background-color:rgba(135,206,250,0.06158786855079158);\">subscriptions</span> <span style=\"background-color:rgba(135,206,250,0.04638011884615428);\">were</span> <span style=\"background-color:rgba(135,206,250,0.04673738613207594);\">more</span> <span style=\"background-color:rgba(135,206,250,0.002777214134291895);\">accessible</span> <span style=\"background-color:rgba(135,206,250,0.05021758421633835);\">to</span> <span style=\"background-color:rgba(135,206,250,0.08929647631805178);\">small</span> <span style=\"background-color:rgba(135,206,250,0.045858687557654196);\">startups</span> <span style=\"background-color:rgba(135,206,250,0.04924153187479971);\">.</span> <br><br> The model uses these patterns to make a prediction: <br> <span style=\"background-color:rgba(117,255,104,1.25);\">impact 1.00</span> <span style=\"background-color:rgba(135,206,250,0.018844225979343113);\">we</span> <span style=\"background-color:rgba(135,206,250,0.005502673147931289);\">are</span> <span style=\"background-color:rgba(135,206,250,0.03290593095822372);\">great</span> <span style=\"background-color:rgba(135,206,250,0.0029179158583216933);\">fans</span> <span style=\"background-color:rgba(135,206,250,0.006150380987697334);\">of</span> <span style=\"background-color:rgba(135,206,250,0.03328174031275674);\">slack</span> <span style=\"background-color:rgba(135,206,250,0.0063061773200906186);\">,</span> <span style=\"background-color:rgba(135,206,250,0.04902781336053907);\">but</span> <span style=\"background-color:rgba(135,206,250,0.009378526729972466);\">we</span> <span style=\"background-color:rgba(135,206,250,0.029228030394476474);\">wish</span> <span style=\"background-color:rgba(135,206,250,0.014909557546568331);\">the</span> <span style=\"background-color:rgba(135,206,250,0.08023124016121691);\">subscriptions</span> <span style=\"background-color:rgba(135,206,250,0.01752476664607134);\">were</span> <span style=\"background-color:rgba(135,206,250,0.008376272325788648);\">more</span> <span style=\"background-color:rgba(135,206,250,0.02118136071989371);\">accessible</span> <span style=\"background-color:rgba(135,206,250,0.02301035799290245);\">to</span> <span style=\"background-color:rgba(135,206,250,0.0033529219466111844);\">small</span> <span style=\"background-color:rgba(135,206,250,0.03134860967001592);\">startups</span> <span style=\"background-color:rgba(135,206,250,0.366656984552967);\">.</span><br> <span style=\"background-color:rgba(250,102,109,1.1651347654805113);\">impact -0.93</span> <span style=\"background-color:rgba(135,206,250,0.011881179380142238);\">we</span> <span style=\"background-color:rgba(135,206,250,0.05228715384985981);\">are</span> <span style=\"background-color:rgba(135,206,250,0.24346763759828532);\">great</span> <span style=\"background-color:rgba(135,206,250,0.12559889172174504);\">fans</span> <span style=\"background-color:rgba(135,206,250,0.0514161087064065);\">of</span> <span style=\"background-color:rgba(135,206,250,0.1947093259367401);\">slack</span> <span style=\"background-color:rgba(135,206,250,0.029754005315318327);\">,</span> <span style=\"background-color:rgba(135,206,250,0.1356401164871918);\">but</span> <span style=\"background-color:rgba(135,206,250,0.18194413935466433);\">we</span> <span style=\"background-color:rgba(135,206,250,1.25);\">wish</span> <span style=\"background-color:rgba(135,206,250,0.07831657473480684);\">the</span> <span style=\"background-color:rgba(135,206,250,0.20072275423046626);\">subscriptions</span> <span style=\"background-color:rgba(135,206,250,0.27820517280301765);\">were</span> <span style=\"background-color:rgba(135,206,250,0.3337699485831495);\">more</span> <span style=\"background-color:rgba(135,206,250,0.09772555950673281);\">accessible</span> <span style=\"background-color:rgba(135,206,250,0.00891714528084448);\">to</span> <span style=\"background-color:rgba(135,206,250,0.020553130106837052);\">small</span> <span style=\"background-color:rgba(135,206,250,0.016435228080161336);\">startups</span> <span style=\"background-color:rgba(135,206,250,0.5702761860724448);\">.</span><br> <span style=\"background-color:rgba(250,102,109,1.0798940591806985);\">impact -0.86</span> <span style=\"background-color:rgba(135,206,250,0.049769295075923134);\">we</span> <span style=\"background-color:rgba(135,206,250,0.05301338919668358);\">are</span> <span style=\"background-color:rgba(135,206,250,0.12965684389785628);\">great</span> <span style=\"background-color:rgba(135,206,250,0.031496232500608096);\">fans</span> <span style=\"background-color:rgba(135,206,250,0.015427914334409164);\">of</span> <span style=\"background-color:rgba(135,206,250,0.3392728509012517);\">slack</span> <span style=\"background-color:rgba(135,206,250,0.21713446313112414);\">,</span> <span style=\"background-color:rgba(135,206,250,0.12509710181440717);\">but</span> <span style=\"background-color:rgba(135,206,250,0.3290247215089756);\">we</span> <span style=\"background-color:rgba(135,206,250,0.5407647924569435);\">wish</span> <span style=\"background-color:rgba(135,206,250,0.1349039972391638);\">the</span> <span style=\"background-color:rgba(135,206,250,0.2089232052145671);\">subscriptions</span> <span style=\"background-color:rgba(135,206,250,0.11748877956733096);\">were</span> <span style=\"background-color:rgba(135,206,250,0.15338894585938587);\">more</span> <span style=\"background-color:rgba(135,206,250,0.03693927155885811);\">accessible</span> <span style=\"background-color:rgba(135,206,250,0.07388236509247693);\">to</span> <span style=\"background-color:rgba(135,206,250,0.029476312934180696);\">small</span> <span style=\"background-color:rgba(135,206,250,0.13036776294974242);\">startups</span> <span style=\"background-color:rgba(135,206,250,0.30060245090911086);\">.</span><br> <span style=\"background-color:rgba(117,255,104,1.0785941441701068);\">impact 0.86</span> <span style=\"background-color:rgba(135,206,250,0.22442715541945454);\">we</span> <span style=\"background-color:rgba(135,206,250,0.23638987257994826);\">are</span> <span style=\"background-color:rgba(135,206,250,0.2858801202072589);\">great</span> <span style=\"background-color:rgba(135,206,250,0.8860527210425364);\">fans</span> <span style=\"background-color:rgba(135,206,250,0.04072168584284573);\">of</span> <span style=\"background-color:rgba(135,206,250,0.9035404682997455);\">slack</span> <span style=\"background-color:rgba(135,206,250,0.025663398936703472);\">,</span> <span style=\"background-color:rgba(135,206,250,0.08821797532692238);\">but</span> <span style=\"background-color:rgba(135,206,250,0.09999915613233508);\">we</span> <span style=\"background-color:rgba(135,206,250,0.2128642556284);\">wish</span> <span style=\"background-color:rgba(135,206,250,0.004665982599177021);\">the</span> <span style=\"background-color:rgba(135,206,250,0.11010867092394784);\">subscriptions</span> <span style=\"background-color:rgba(135,206,250,0.033806130092140924);\">were</span> <span style=\"background-color:rgba(135,206,250,0.1424245270966116);\">more</span> <span style=\"background-color:rgba(135,206,250,0.07914752524437109);\">accessible</span> <span style=\"background-color:rgba(135,206,250,0.039959224851837095);\">to</span> <span style=\"background-color:rgba(135,206,250,0.05507607313303552);\">small</span> <span style=\"background-color:rgba(135,206,250,0.16943778423304445);\">startups</span> <span style=\"background-color:rgba(135,206,250,0.31665988684779683);\">.</span><br> <span style=\"background-color:rgba(117,255,104,1.0784288551773153);\">impact 0.86</span> <span style=\"background-color:rgba(135,206,250,0.08453372371141857);\">we</span> <span style=\"background-color:rgba(135,206,250,0.015920129937398927);\">are</span> <span style=\"background-color:rgba(135,206,250,0.4112167450508561);\">great</span> <span style=\"background-color:rgba(135,206,250,0.20891661104706105);\">fans</span> <span style=\"background-color:rgba(135,206,250,0.11013150557847179);\">of</span> <span style=\"background-color:rgba(135,206,250,0.1258465613407229);\">slack</span> <span style=\"background-color:rgba(135,206,250,0.019859472185602103);\">,</span> <span style=\"background-color:rgba(135,206,250,0.0802515447201621);\">but</span> <span style=\"background-color:rgba(135,206,250,0.015619299281000164);\">we</span> <span style=\"background-color:rgba(135,206,250,0.10803117661915294);\">wish</span> <span style=\"background-color:rgba(135,206,250,0.031850676052489285);\">the</span> <span style=\"background-color:rgba(135,206,250,0.07293653258756007);\">subscriptions</span> <span style=\"background-color:rgba(135,206,250,0.017739712506539343);\">were</span> <span style=\"background-color:rgba(135,206,250,0.08754608380283126);\">more</span> <span style=\"background-color:rgba(135,206,250,0.08021560857962057);\">accessible</span> <span style=\"background-color:rgba(135,206,250,0.02428959959071278);\">to</span> <span style=\"background-color:rgba(135,206,250,0.011744994990699998);\">small</span> <span style=\"background-color:rgba(135,206,250,0.07537100052576434);\">startups</span> <span style=\"background-color:rgba(135,206,250,0.34018210320443565);\">.</span><br> <span style=\"background-color:rgba(250,102,109,1.0179849527272118);\">impact -0.81</span> <span style=\"background-color:rgba(135,206,250,0.010670800781352645);\">we</span> <span style=\"background-color:rgba(135,206,250,0.010137518328758938);\">are</span> <span style=\"background-color:rgba(135,206,250,0.004040609410211345);\">great</span> <span style=\"background-color:rgba(135,206,250,0.013065039878528419);\">fans</span> <span style=\"background-color:rgba(135,206,250,0.00895784710977006);\">of</span> <span style=\"background-color:rgba(135,206,250,0.008695199396876433);\">slack</span> <span style=\"background-color:rgba(135,206,250,0.0027415726994395513);\">,</span> <span style=\"background-color:rgba(135,206,250,0.0007892533576753914);\">but</span> <span style=\"background-color:rgba(135,206,250,0.00793281103072494);\">we</span> <span style=\"background-color:rgba(135,206,250,0.008308538235125012);\">wish</span> <span style=\"background-color:rgba(135,206,250,0.003022978493427034);\">the</span> <span style=\"background-color:rgba(135,206,250,0.01283303412092916);\">subscriptions</span> <span style=\"background-color:rgba(135,206,250,0.004847645637569553);\">were</span> <span style=\"background-color:rgba(135,206,250,0.005780672232418983);\">more</span> <span style=\"background-color:rgba(135,206,250,0.005871960065447195);\">accessible</span> <span style=\"background-color:rgba(135,206,250,0.007808477397487606);\">to</span> <span style=\"background-color:rgba(135,206,250,0.009292369133519737);\">small</span> <span style=\"background-color:rgba(135,206,250,0.08989430984314078);\">startups</span> <span style=\"background-color:rgba(135,206,250,0.02118042298640692);\">.</span><br> <span style=\"background-color:rgba(250,102,109,0.9489498701418712);\">impact -0.76</span> <span style=\"background-color:rgba(135,206,250,0.014587102574489525);\">we</span> <span style=\"background-color:rgba(135,206,250,0.010659945731940129);\">are</span> <span style=\"background-color:rgba(135,206,250,0.016226919655615228);\">great</span> <span style=\"background-color:rgba(135,206,250,0.03107330042514352);\">fans</span> <span style=\"background-color:rgba(135,206,250,0.009709567134887657);\">of</span> <span style=\"background-color:rgba(135,206,250,0.04522072366984173);\">slack</span> <span style=\"background-color:rgba(135,206,250,0.0037497720243705288);\">,</span> <span style=\"background-color:rgba(135,206,250,0.008708430811778198);\">but</span> <span style=\"background-color:rgba(135,206,250,0.011554687659220695);\">we</span> <span style=\"background-color:rgba(135,206,250,0.022717996042605052);\">wish</span> <span style=\"background-color:rgba(135,206,250,0.08861514985235779);\">the</span> <span style=\"background-color:rgba(135,206,250,0.3598670731295362);\">subscriptions</span> <span style=\"background-color:rgba(135,206,250,0.015185652619768807);\">were</span> <span style=\"background-color:rgba(135,206,250,0.012014101240712786);\">more</span> <span style=\"background-color:rgba(135,206,250,0.060825916482902476);\">accessible</span> <span style=\"background-color:rgba(135,206,250,0.0006774258776103916);\">to</span> <span style=\"background-color:rgba(135,206,250,0.0018648398497486895);\">small</span> <span style=\"background-color:rgba(135,206,250,0.08344127690529485);\">startups</span> <span style=\"background-color:rgba(135,206,250,0.051626332939570044);\">.</span><br> <span style=\"background-color:rgba(250,102,109,0.7366002472143425);\">impact -0.59</span> <span style=\"background-color:rgba(135,206,250,0.0018054879720202416);\">we</span> <span style=\"background-color:rgba(135,206,250,0.004899554594772084);\">are</span> <span style=\"background-color:rgba(135,206,250,0.03229119390921383);\">great</span> <span style=\"background-color:rgba(135,206,250,0.01540746946447815);\">fans</span> <span style=\"background-color:rgba(135,206,250,0.01343493129873052);\">of</span> <span style=\"background-color:rgba(135,206,250,0.046509078338991004);\">slack</span> <span style=\"background-color:rgba(135,206,250,0.0003222281018694057);\">,</span> <span style=\"background-color:rgba(135,206,250,0.00887954869068868);\">but</span> <span style=\"background-color:rgba(135,206,250,0.015983499766961604);\">we</span> <span style=\"background-color:rgba(135,206,250,0.08452980523528182);\">wish</span> <span style=\"background-color:rgba(135,206,250,0.015258803497565662);\">the</span> <span style=\"background-color:rgba(135,206,250,0.03960641959604783);\">subscriptions</span> <span style=\"background-color:rgba(135,206,250,0.09480423377968057);\">were</span> <span style=\"background-color:rgba(135,206,250,0.12038906658582584);\">more</span> <span style=\"background-color:rgba(135,206,250,0.23175895353792655);\">accessible</span> <span style=\"background-color:rgba(135,206,250,0.04648907890733705);\">to</span> <span style=\"background-color:rgba(135,206,250,0.03046193776882547);\">small</span> <span style=\"background-color:rgba(135,206,250,0.051298696395678425);\">startups</span> <span style=\"background-color:rgba(135,206,250,0.13088697307036237);\">.</span><br> <span style=\"background-color:rgba(117,255,104,0.6651146502119479);\">impact 0.53</span> <span style=\"background-color:rgba(135,206,250,0.029302628499028874);\">we</span> <span style=\"background-color:rgba(135,206,250,0.025708288631789537);\">are</span> <span style=\"background-color:rgba(135,206,250,0.14930296577244012);\">great</span> <span style=\"background-color:rgba(135,206,250,0.09238873951466967);\">fans</span> <span style=\"background-color:rgba(135,206,250,0.038722129828009516);\">of</span> <span style=\"background-color:rgba(135,206,250,0.3047143697841781);\">slack</span> <span style=\"background-color:rgba(135,206,250,0.06046770467784511);\">,</span> <span style=\"background-color:rgba(135,206,250,0.09198266865368193);\">but</span> <span style=\"background-color:rgba(135,206,250,0.0026067303558961843);\">we</span> <span style=\"background-color:rgba(135,206,250,0.030157074195173536);\">wish</span> <span style=\"background-color:rgba(135,206,250,0.004927293968543106);\">the</span> <span style=\"background-color:rgba(135,206,250,0.033662447181550204);\">subscriptions</span> <span style=\"background-color:rgba(135,206,250,0.0023497251111845906);\">were</span> <span style=\"background-color:rgba(135,206,250,0.014016584869343585);\">more</span> <span style=\"background-color:rgba(135,206,250,0.02301585974875443);\">accessible</span> <span style=\"background-color:rgba(135,206,250,0.016747160795478142);\">to</span> <span style=\"background-color:rgba(135,206,250,0.03239025887187013);\">small</span> <span style=\"background-color:rgba(135,206,250,0.0453149306939046);\">startups</span> <span style=\"background-color:rgba(135,206,250,0.1659084033111744);\">.</span><br> <span style=\"background-color:rgba(250,102,109,0.5691668165931403);\">impact -0.46</span> <span style=\"background-color:rgba(135,206,250,0.004912886264019899);\">we</span> <span style=\"background-color:rgba(135,206,250,0.0037490921508744886);\">are</span> <span style=\"background-color:rgba(135,206,250,0.0005911925641412314);\">great</span> <span style=\"background-color:rgba(135,206,250,0.006613353107551343);\">fans</span> <span style=\"background-color:rgba(135,206,250,0.0039482184821747);\">of</span> <span style=\"background-color:rgba(135,206,250,0.00676380095564645);\">slack</span> <span style=\"background-color:rgba(135,206,250,0.005998534723829623);\">,</span> <span style=\"background-color:rgba(135,206,250,0.015812440244915626);\">but</span> <span style=\"background-color:rgba(135,206,250,0.007822761083874509);\">we</span> <span style=\"background-color:rgba(135,206,250,0.044739175433934374);\">wish</span> <span style=\"background-color:rgba(135,206,250,0.01680182114764967);\">the</span> <span style=\"background-color:rgba(135,206,250,0.02900545064805465);\">subscriptions</span> <span style=\"background-color:rgba(135,206,250,0.031220699232478184);\">were</span> <span style=\"background-color:rgba(135,206,250,0.019116839730614923);\">more</span> <span style=\"background-color:rgba(135,206,250,0.012799826827520996);\">accessible</span> <span style=\"background-color:rgba(135,206,250,0.027011633197424622);\">to</span> <span style=\"background-color:rgba(135,206,250,0.03898702737229537);\">small</span> <span style=\"background-color:rgba(135,206,250,0.09228927371350373);\">startups</span> <span style=\"background-color:rgba(135,206,250,0.001779082897978245);\">.</span><br>"
      ],
      "text/plain": [
       "<IPython.core.display.HTML object>"
      ]
     },
     "execution_count": 8,
     "metadata": {},
     "output_type": "execute_result"
    }
   ],
   "source": [
    "absa.probing.explain(slack.examples[0])"
   ]
  },
  {
   "cell_type": "code",
   "execution_count": 9,
   "metadata": {
    "ExecuteTime": {
     "end_time": "2020-06-29T20:27:36.889267Z",
     "start_time": "2020-06-29T20:27:36.884850Z"
    }
   },
   "outputs": [
    {
     "data": {
      "text/html": [
       "Words connected with the \"price\" aspect: <br> <span style=\"background-color:rgba(135,206,250,0.029675147613691208);\">we</span> <span style=\"background-color:rgba(135,206,250,0.1321132956599302);\">are</span> <span style=\"background-color:rgba(135,206,250,1.25);\">great</span> <span style=\"background-color:rgba(135,206,250,0.056183419762367105);\">fans</span> <span style=\"background-color:rgba(135,206,250,0.016554517367452684);\">of</span> <span style=\"background-color:rgba(135,206,250,0.0969405922855917);\">slack</span> <span style=\"background-color:rgba(135,206,250,0.01027069934855242);\">,</span> <span style=\"background-color:rgba(135,206,250,0.03280144223133031);\">but</span> <span style=\"background-color:rgba(135,206,250,0.024878869412819388);\">we</span> <span style=\"background-color:rgba(135,206,250,0.3179568321765372);\">wish</span> <span style=\"background-color:rgba(135,206,250,0.08265640174971162);\">the</span> <span style=\"background-color:rgba(135,206,250,0.04557375877636511);\">subscriptions</span> <span style=\"background-color:rgba(135,206,250,0.011875702547894829);\">were</span> <span style=\"background-color:rgba(135,206,250,0.0018986813127218555);\">more</span> <span style=\"background-color:rgba(135,206,250,0.02761752042045825);\">accessible</span> <span style=\"background-color:rgba(135,206,250,0.0002531696746199255);\">to</span> <span style=\"background-color:rgba(135,206,250,0.02656333961598786);\">small</span> <span style=\"background-color:rgba(135,206,250,0.05410988529360219);\">startups</span> <span style=\"background-color:rgba(135,206,250,0.01961944722057958);\">.</span> <br><br> The model uses these patterns to make a prediction: <br> <span style=\"background-color:rgba(250,102,109,1.25);\">impact -1.00</span> <span style=\"background-color:rgba(135,206,250,0.22085210053598434);\">we</span> <span style=\"background-color:rgba(135,206,250,0.34708464986328436);\">are</span> <span style=\"background-color:rgba(135,206,250,0.023699390499783153);\">great</span> <span style=\"background-color:rgba(135,206,250,0.9724737670100498);\">fans</span> <span style=\"background-color:rgba(135,206,250,0.09569889986146761);\">of</span> <span style=\"background-color:rgba(135,206,250,0.08770554754564445);\">slack</span> <span style=\"background-color:rgba(135,206,250,0.01259742763747413);\">,</span> <span style=\"background-color:rgba(135,206,250,0.010331419419611913);\">but</span> <span style=\"background-color:rgba(135,206,250,0.1122728651689002);\">we</span> <span style=\"background-color:rgba(135,206,250,0.14118321416659443);\">wish</span> <span style=\"background-color:rgba(135,206,250,0.006756693160160997);\">the</span> <span style=\"background-color:rgba(135,206,250,0.0674482783424668);\">subscriptions</span> <span style=\"background-color:rgba(135,206,250,0.052049619520032876);\">were</span> <span style=\"background-color:rgba(135,206,250,0.0790350993557291);\">more</span> <span style=\"background-color:rgba(135,206,250,0.04801149589776144);\">accessible</span> <span style=\"background-color:rgba(135,206,250,0.03896464837724587);\">to</span> <span style=\"background-color:rgba(135,206,250,0.025159027408747377);\">small</span> <span style=\"background-color:rgba(135,206,250,0.1482327667878191);\">startups</span> <span style=\"background-color:rgba(135,206,250,0.5840702047255419);\">.</span><br> <span style=\"background-color:rgba(250,102,109,1.166626485267211);\">impact -0.93</span> <span style=\"background-color:rgba(135,206,250,0.11812478113136395);\">we</span> <span style=\"background-color:rgba(135,206,250,0.01133838532578467);\">are</span> <span style=\"background-color:rgba(135,206,250,0.3943604899020815);\">great</span> <span style=\"background-color:rgba(135,206,250,0.07289455223039495);\">fans</span> <span style=\"background-color:rgba(135,206,250,0.19126776218273497);\">of</span> <span style=\"background-color:rgba(135,206,250,0.07244394823526237);\">slack</span> <span style=\"background-color:rgba(135,206,250,0.002416649482077387);\">,</span> <span style=\"background-color:rgba(135,206,250,0.0045691717987551474);\">but</span> <span style=\"background-color:rgba(135,206,250,0.0019923022694926036);\">we</span> <span style=\"background-color:rgba(135,206,250,0.04618559345903623);\">wish</span> <span style=\"background-color:rgba(135,206,250,0.033733956085682804);\">the</span> <span style=\"background-color:rgba(135,206,250,0.057982904154870396);\">subscriptions</span> <span style=\"background-color:rgba(135,206,250,0.04734963299691855);\">were</span> <span style=\"background-color:rgba(135,206,250,0.044777665502267264);\">more</span> <span style=\"background-color:rgba(135,206,250,0.10164459820246646);\">accessible</span> <span style=\"background-color:rgba(135,206,250,0.01639886091708733);\">to</span> <span style=\"background-color:rgba(135,206,250,0.020294616894889223);\">small</span> <span style=\"background-color:rgba(135,206,250,0.07993164608681984);\">startups</span> <span style=\"background-color:rgba(135,206,250,0.23481579360414542);\">.</span><br> <span style=\"background-color:rgba(117,255,104,1.0555981200314086);\">impact 0.84</span> <span style=\"background-color:rgba(135,206,250,0.005442230333588383);\">we</span> <span style=\"background-color:rgba(135,206,250,0.0016154577145844836);\">are</span> <span style=\"background-color:rgba(135,206,250,0.019144098389171197);\">great</span> <span style=\"background-color:rgba(135,206,250,0.002946231361755828);\">fans</span> <span style=\"background-color:rgba(135,206,250,0.001653083333777373);\">of</span> <span style=\"background-color:rgba(135,206,250,0.005734371143298348);\">slack</span> <span style=\"background-color:rgba(135,206,250,0.009857532157196104);\">,</span> <span style=\"background-color:rgba(135,206,250,0.01012996504214569);\">but</span> <span style=\"background-color:rgba(135,206,250,0.0027207252135402395);\">we</span> <span style=\"background-color:rgba(135,206,250,0.012102888882742358);\">wish</span> <span style=\"background-color:rgba(135,206,250,0.00020786639591616543);\">the</span> <span style=\"background-color:rgba(135,206,250,0.0350928275152589);\">subscriptions</span> <span style=\"background-color:rgba(135,206,250,0.0011631589469579186);\">were</span> <span style=\"background-color:rgba(135,206,250,0.0017333184235927032);\">more</span> <span style=\"background-color:rgba(135,206,250,0.004617144255036243);\">accessible</span> <span style=\"background-color:rgba(135,206,250,0.016457026606590375);\">to</span> <span style=\"background-color:rgba(135,206,250,0.002157081877522435);\">small</span> <span style=\"background-color:rgba(135,206,250,0.04881111271874433);\">startups</span> <span style=\"background-color:rgba(135,206,250,0.1703018213843325);\">.</span><br> <span style=\"background-color:rgba(117,255,104,0.9907564070101083);\">impact 0.79</span> <span style=\"background-color:rgba(135,206,250,0.025271395609911824);\">we</span> <span style=\"background-color:rgba(135,206,250,0.11997293602687757);\">are</span> <span style=\"background-color:rgba(135,206,250,0.2817594543950367);\">great</span> <span style=\"background-color:rgba(135,206,250,0.14856384914550047);\">fans</span> <span style=\"background-color:rgba(135,206,250,0.02968849185939809);\">of</span> <span style=\"background-color:rgba(135,206,250,0.03077707138036108);\">slack</span> <span style=\"background-color:rgba(135,206,250,0.02149975295468886);\">,</span> <span style=\"background-color:rgba(135,206,250,0.1319509055627284);\">but</span> <span style=\"background-color:rgba(135,206,250,0.05379966624362899);\">we</span> <span style=\"background-color:rgba(135,206,250,1.25);\">wish</span> <span style=\"background-color:rgba(135,206,250,0.11814431380682586);\">the</span> <span style=\"background-color:rgba(135,206,250,0.27393195651104413);\">subscriptions</span> <span style=\"background-color:rgba(135,206,250,0.30083229452417437);\">were</span> <span style=\"background-color:rgba(135,206,250,0.3711700500626597);\">more</span> <span style=\"background-color:rgba(135,206,250,0.11303564436038795);\">accessible</span> <span style=\"background-color:rgba(135,206,250,0.05373877167855154);\">to</span> <span style=\"background-color:rgba(135,206,250,0.05025098966726594);\">small</span> <span style=\"background-color:rgba(135,206,250,0.04075619454612288);\">startups</span> <span style=\"background-color:rgba(135,206,250,0.5897881308265398);\">.</span><br> <span style=\"background-color:rgba(250,102,109,0.6083479780678014);\">impact -0.49</span> <span style=\"background-color:rgba(135,206,250,0.08477770695687276);\">we</span> <span style=\"background-color:rgba(135,206,250,0.08609142132781585);\">are</span> <span style=\"background-color:rgba(135,206,250,0.17993655799908423);\">great</span> <span style=\"background-color:rgba(135,206,250,0.16981717427792103);\">fans</span> <span style=\"background-color:rgba(135,206,250,0.05840545193285361);\">of</span> <span style=\"background-color:rgba(135,206,250,0.017066873518761242);\">slack</span> <span style=\"background-color:rgba(135,206,250,0.0031801782614329);\">,</span> <span style=\"background-color:rgba(135,206,250,0.03906486541050647);\">but</span> <span style=\"background-color:rgba(135,206,250,0.03756897609085813);\">we</span> <span style=\"background-color:rgba(135,206,250,0.045128564760244);\">wish</span> <span style=\"background-color:rgba(135,206,250,0.007576887507838828);\">the</span> <span style=\"background-color:rgba(135,206,250,0.027694246357385315);\">subscriptions</span> <span style=\"background-color:rgba(135,206,250,0.04098659786956997);\">were</span> <span style=\"background-color:rgba(135,206,250,0.020581059278482097);\">more</span> <span style=\"background-color:rgba(135,206,250,0.0117643059475375);\">accessible</span> <span style=\"background-color:rgba(135,206,250,0.007191892007069432);\">to</span> <span style=\"background-color:rgba(135,206,250,0.00894883882235829);\">small</span> <span style=\"background-color:rgba(135,206,250,0.04059032283496971);\">startups</span> <span style=\"background-color:rgba(135,206,250,0.2279585469637857);\">.</span><br> <span style=\"background-color:rgba(117,255,104,0.48130309631083235);\">impact 0.39</span> <span style=\"background-color:rgba(135,206,250,0.0026189417047650576);\">we</span> <span style=\"background-color:rgba(135,206,250,0.007498157132976235);\">are</span> <span style=\"background-color:rgba(135,206,250,0.002816207754714255);\">great</span> <span style=\"background-color:rgba(135,206,250,0.023926263739666987);\">fans</span> <span style=\"background-color:rgba(135,206,250,0.002553689938074908);\">of</span> <span style=\"background-color:rgba(135,206,250,0.0035250207957405384);\">slack</span> <span style=\"background-color:rgba(135,206,250,0.0020084635980062316);\">,</span> <span style=\"background-color:rgba(135,206,250,0.02399353633969608);\">but</span> <span style=\"background-color:rgba(135,206,250,0.010961225860587643);\">we</span> <span style=\"background-color:rgba(135,206,250,0.031209375216132228);\">wish</span> <span style=\"background-color:rgba(135,206,250,0.021810325101765782);\">the</span> <span style=\"background-color:rgba(135,206,250,0.1424378361438093);\">subscriptions</span> <span style=\"background-color:rgba(135,206,250,0.08894703397623073);\">were</span> <span style=\"background-color:rgba(135,206,250,0.12164591385215043);\">more</span> <span style=\"background-color:rgba(135,206,250,0.22355320721466546);\">accessible</span> <span style=\"background-color:rgba(135,206,250,0.04583860824412296);\">to</span> <span style=\"background-color:rgba(135,206,250,0.039774928921122533);\">small</span> <span style=\"background-color:rgba(135,206,250,0.0876166876035222);\">startups</span> <span style=\"background-color:rgba(135,206,250,0.040456377925961816);\">.</span><br> <span style=\"background-color:rgba(250,102,109,0.43972292628100046);\">impact -0.35</span> <span style=\"background-color:rgba(135,206,250,0.048045745365084304);\">we</span> <span style=\"background-color:rgba(135,206,250,0.1395844249357617);\">are</span> <span style=\"background-color:rgba(135,206,250,0.10056454944847652);\">great</span> <span style=\"background-color:rgba(135,206,250,0.056089463732378476);\">fans</span> <span style=\"background-color:rgba(135,206,250,0.009039377927557353);\">of</span> <span style=\"background-color:rgba(135,206,250,0.01769053914555983);\">slack</span> <span style=\"background-color:rgba(135,206,250,0.0029104582283960598);\">,</span> <span style=\"background-color:rgba(135,206,250,0.031840771720548396);\">but</span> <span style=\"background-color:rgba(135,206,250,0.03739211027786816);\">we</span> <span style=\"background-color:rgba(135,206,250,0.03606287667585114);\">wish</span> <span style=\"background-color:rgba(135,206,250,0.002440799065402209);\">the</span> <span style=\"background-color:rgba(135,206,250,0.0108367944535623);\">subscriptions</span> <span style=\"background-color:rgba(135,206,250,0.01897781250715367);\">were</span> <span style=\"background-color:rgba(135,206,250,0.009840874141950734);\">more</span> <span style=\"background-color:rgba(135,206,250,0.008027112383666426);\">accessible</span> <span style=\"background-color:rgba(135,206,250,0.002329531059731707);\">to</span> <span style=\"background-color:rgba(135,206,250,0.013110181554489451);\">small</span> <span style=\"background-color:rgba(135,206,250,0.021018686390868607);\">startups</span> <span style=\"background-color:rgba(135,206,250,0.12553990774807);\">.</span><br> <span style=\"background-color:rgba(250,102,109,0.3423532991004798);\">impact -0.27</span> <span style=\"background-color:rgba(135,206,250,0.004455494089874667);\">we</span> <span style=\"background-color:rgba(135,206,250,0.003234213706308582);\">are</span> <span style=\"background-color:rgba(135,206,250,9.047523139931996e-05);\">great</span> <span style=\"background-color:rgba(135,206,250,0.010043755208601502);\">fans</span> <span style=\"background-color:rgba(135,206,250,0.0009790502301515258);\">of</span> <span style=\"background-color:rgba(135,206,250,0.0028777069176214322);\">slack</span> <span style=\"background-color:rgba(135,206,250,0.0015165398995593696);\">,</span> <span style=\"background-color:rgba(135,206,250,0.0007654758873294012);\">but</span> <span style=\"background-color:rgba(135,206,250,0.0028234605467645996);\">we</span> <span style=\"background-color:rgba(135,206,250,0.002531185634297754);\">wish</span> <span style=\"background-color:rgba(135,206,250,0.002819726397525918);\">the</span> <span style=\"background-color:rgba(135,206,250,0.026061380242188414);\">subscriptions</span> <span style=\"background-color:rgba(135,206,250,0.00024262004415814435);\">were</span> <span style=\"background-color:rgba(135,206,250,0.004280962116669107);\">more</span> <span style=\"background-color:rgba(135,206,250,0.0020060082766392632);\">accessible</span> <span style=\"background-color:rgba(135,206,250,0.008494527514708724);\">to</span> <span style=\"background-color:rgba(135,206,250,0.0072562213832024726);\">small</span> <span style=\"background-color:rgba(135,206,250,0.005276897713650532);\">startups</span> <span style=\"background-color:rgba(135,206,250,0.01731239595991105);\">.</span><br> <span style=\"background-color:rgba(250,102,109,0.3273899815132093);\">impact -0.26</span> <span style=\"background-color:rgba(135,206,250,0.006324346192987188);\">we</span> <span style=\"background-color:rgba(135,206,250,0.005560247800762036);\">are</span> <span style=\"background-color:rgba(135,206,250,0.00815842731878673);\">great</span> <span style=\"background-color:rgba(135,206,250,0.01666405286667079);\">fans</span> <span style=\"background-color:rgba(135,206,250,0.0032318974418435367);\">of</span> <span style=\"background-color:rgba(135,206,250,0.017641291877999947);\">slack</span> <span style=\"background-color:rgba(135,206,250,0.0007616040970001251);\">,</span> <span style=\"background-color:rgba(135,206,250,0.00804599129040836);\">but</span> <span style=\"background-color:rgba(135,206,250,0.0002935727131659279);\">we</span> <span style=\"background-color:rgba(135,206,250,0.006064607635757066);\">wish</span> <span style=\"background-color:rgba(135,206,250,0.07121595790027982);\">the</span> <span style=\"background-color:rgba(135,206,250,0.24954798136430012);\">subscriptions</span> <span style=\"background-color:rgba(135,206,250,0.00755680519561256);\">were</span> <span style=\"background-color:rgba(135,206,250,0.0020331282718110545);\">more</span> <span style=\"background-color:rgba(135,206,250,0.03965073968462941);\">accessible</span> <span style=\"background-color:rgba(135,206,250,0.0007076703937282527);\">to</span> <span style=\"background-color:rgba(135,206,250,0.001412586555193228);\">small</span> <span style=\"background-color:rgba(135,206,250,0.0008488914263999094);\">startups</span> <span style=\"background-color:rgba(135,206,250,0.007273978533283047);\">.</span><br> <span style=\"background-color:rgba(250,102,109,0.3023381926965481);\">impact -0.24</span> <span style=\"background-color:rgba(135,206,250,0.0015340300255541393);\">we</span> <span style=\"background-color:rgba(135,206,250,0.01349549550675462);\">are</span> <span style=\"background-color:rgba(135,206,250,0.036756723672313404);\">great</span> <span style=\"background-color:rgba(135,206,250,0.10255860309229561);\">fans</span> <span style=\"background-color:rgba(135,206,250,0.022568035136435464);\">of</span> <span style=\"background-color:rgba(135,206,250,0.027838632331526204);\">slack</span> <span style=\"background-color:rgba(135,206,250,0.0035770256387442742);\">,</span> <span style=\"background-color:rgba(135,206,250,0.00174063894323401);\">but</span> <span style=\"background-color:rgba(135,206,250,0.0008125250900770301);\">we</span> <span style=\"background-color:rgba(135,206,250,0.0010597950065818062);\">wish</span> <span style=\"background-color:rgba(135,206,250,0.0005640950611599552);\">the</span> <span style=\"background-color:rgba(135,206,250,0.04705081984170336);\">subscriptions</span> <span style=\"background-color:rgba(135,206,250,0.008716300293740197);\">were</span> <span style=\"background-color:rgba(135,206,250,0.003736225869524229);\">more</span> <span style=\"background-color:rgba(135,206,250,0.005067852945346554);\">accessible</span> <span style=\"background-color:rgba(135,206,250,0.003459347136664368);\">to</span> <span style=\"background-color:rgba(135,206,250,0.0022430937169977882);\">small</span> <span style=\"background-color:rgba(135,206,250,0.02123270333508479);\">startups</span> <span style=\"background-color:rgba(135,206,250,0.028776052092496195);\">.</span><br>"
      ],
      "text/plain": [
       "<IPython.core.display.HTML object>"
      ]
     },
     "execution_count": 9,
     "metadata": {},
     "output_type": "execute_result"
    }
   ],
   "source": [
    "absa.probing.explain(price.examples[0])"
   ]
  },
  {
   "cell_type": "code",
   "execution_count": null,
   "metadata": {},
   "outputs": [],
   "source": []
  }
 ],
 "metadata": {
  "kernelspec": {
   "display_name": "Python 3",
   "language": "python",
   "name": "python3"
  },
  "language_info": {
   "codemirror_mode": {
    "name": "ipython",
    "version": 3
   },
   "file_extension": ".py",
   "mimetype": "text/x-python",
   "name": "python",
   "nbconvert_exporter": "python",
   "pygments_lexer": "ipython3",
   "version": "3.8.3"
  },
  "toc": {
   "base_numbering": 1,
   "nav_menu": {},
   "number_sections": true,
   "sideBar": true,
   "skip_h1_title": false,
   "title_cell": "Table of Contents",
   "title_sidebar": "Contents",
   "toc_cell": false,
   "toc_position": {},
   "toc_section_display": true,
   "toc_window_display": false
  }
 },
 "nbformat": 4,
 "nbformat_minor": 4
}
