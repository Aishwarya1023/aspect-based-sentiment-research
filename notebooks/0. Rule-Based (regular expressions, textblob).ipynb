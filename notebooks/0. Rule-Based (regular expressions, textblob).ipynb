{
 "cells": [
  {
   "cell_type": "code",
   "execution_count": 1,
   "metadata": {},
   "outputs": [],
   "source": [
    "import pandas as pd\n",
    "from textblob import TextBlob"
   ]
  },
  {
   "cell_type": "code",
   "execution_count": 2,
   "metadata": {
    "ExecuteTime": {
     "end_time": "2020-07-07T12:25:52.694795Z",
     "start_time": "2020-07-07T12:25:52.690469Z"
    }
   },
   "outputs": [
    {
     "name": "stderr",
     "output_type": "stream",
     "text": [
      "/Users/a0s01w2/Downloads/anaconda3/envs/absa/lib/python3.7/site-packages/ipykernel_launcher.py:1: FutureWarning: Passing a negative integer is deprecated in version 1.0 and will not be supported in future version. Instead, use None to not limit the column width.\n",
      "  \"\"\"Entry point for launching an IPython kernel.\n"
     ]
    }
   ],
   "source": [
    "pd.set_option('display.max_colwidth', -1)"
   ]
  },
  {
   "cell_type": "code",
   "execution_count": 4,
   "metadata": {
    "ExecuteTime": {
     "end_time": "2020-07-07T12:26:03.780473Z",
     "start_time": "2020-07-07T12:26:01.744030Z"
    }
   },
   "outputs": [],
   "source": [
    "data = pd.read_csv('Case_data_processed.csv')"
   ]
  },
  {
   "cell_type": "markdown",
   "metadata": {},
   "source": [
    "## Basic TextBlob Approach"
   ]
  },
  {
   "cell_type": "code",
   "execution_count": 16,
   "metadata": {
    "ExecuteTime": {
     "end_time": "2020-07-07T12:05:10.958421Z",
     "start_time": "2020-07-07T12:05:10.952313Z"
    }
   },
   "outputs": [],
   "source": [
    "#https://github.com/iamvishnuks/ABSA/blob/master/absa.py\n",
    "\n",
    "def get_aspect_sentiment(text):\n",
    "    aspect_sentiment = []\n",
    "    blob=TextBlob(text)\n",
    "    tokens=list(blob.words)\n",
    "    word=[]\n",
    "    sent=[]\n",
    "    c=0\n",
    "    i=0\n",
    "    for words,pos in blob.tags:\n",
    "        if pos=='JJ' or pos=='NN' or pos=='JJR' or pos=='NNS':\n",
    "            word.append(words)\n",
    "    if len(word)>=2:\n",
    "            firstw=word[0]\n",
    "            secw=word[1]\n",
    "            word.remove(firstw)\n",
    "            word.remove(secw)\n",
    "            findx=tokens.index(firstw)\n",
    "            lindx=tokens.index(secw)\n",
    "            sent.append(' '.join(tokens[findx:lindx+1]))\n",
    "   \n",
    "    for sentence in sent:\n",
    "        aspect_sentiment.append((sentence, TextBlob(sentence).polarity))\n",
    "        \n",
    "    return aspect_sentiment"
   ]
  },
  {
   "cell_type": "code",
   "execution_count": 17,
   "metadata": {
    "ExecuteTime": {
     "end_time": "2020-07-07T12:09:41.185733Z",
     "start_time": "2020-07-07T12:09:41.175788Z"
    }
   },
   "outputs": [
    {
     "name": "stdout",
     "output_type": "stream",
     "text": [
      "I am new and trying to upload my items.  I noticed that there is an error appearing each time that I add a new item.  It is the same error each time.    This is what appears: SKU\tError Type\tError(s) This is the SKU that has an error in your feed\tThe type of error associated with your item setup failure.\tIf you have more than 1 error, they will appear in new columns to the right for a given SKU 503-FT\tData error\tID Type=GTIN, ID Value=856453005716, invalid product ID length: 12\n"
     ]
    },
    {
     "data": {
      "text/plain": [
       "[('new and trying to upload my items', 0.13636363636363635)]"
      ]
     },
     "execution_count": 17,
     "metadata": {},
     "output_type": "execute_result"
    }
   ],
   "source": [
    "print(data['Description'].iloc[1])\n",
    "get_aspect_sentiment(data['Description'].iloc[1])"
   ]
  },
  {
   "cell_type": "code",
   "execution_count": 18,
   "metadata": {},
   "outputs": [
    {
     "name": "stdout",
     "output_type": "stream",
     "text": [
      "I want to  know how to creat a item listing with many variation?  i dont want to use bulk , but i cant find the way to add variation in single item now.\n"
     ]
    },
    {
     "data": {
      "text/plain": [
       "[('item listing with many', 0.5)]"
      ]
     },
     "execution_count": 18,
     "metadata": {},
     "output_type": "execute_result"
    }
   ],
   "source": [
    "print(data['Description'].iloc[2])\n",
    "get_aspect_sentiment(data['Description'].iloc[2])"
   ]
  },
  {
   "cell_type": "code",
   "execution_count": 19,
   "metadata": {
    "ExecuteTime": {
     "end_time": "2020-07-07T12:10:13.005199Z",
     "start_time": "2020-07-07T12:10:12.994667Z"
    }
   },
   "outputs": [
    {
     "name": "stdout",
     "output_type": "stream",
     "text": [
      "In this account, all online selling products are home textiles. Can I sell other category products, such as clothing products and electronic products？\n"
     ]
    },
    {
     "data": {
      "text/plain": [
       "[('account all online selling', 0.0)]"
      ]
     },
     "execution_count": 19,
     "metadata": {},
     "output_type": "execute_result"
    }
   ],
   "source": [
    "print(data['Description'].iloc[3])\n",
    "get_aspect_sentiment(data['Description'].iloc[3])"
   ]
  },
  {
   "cell_type": "markdown",
   "metadata": {},
   "source": [
    "## TextBlob Approach 2\n",
    "\n",
    "https://github.com/OrthoDex/ABSA-YouTube/blob/master/ABSA%20of%20YouTube%20Comments.ipynb"
   ]
  },
  {
   "cell_type": "code",
   "execution_count": 22,
   "metadata": {
    "ExecuteTime": {
     "end_time": "2020-07-07T12:26:16.971399Z",
     "start_time": "2020-07-07T12:26:16.571855Z"
    }
   },
   "outputs": [],
   "source": [
    "%matplotlib inline\n",
    "from textblob import TextBlob, Word\n",
    "import matplotlib.pyplot as plt\n",
    "import seaborn as sns\n",
    "sns.set(color_codes=True)\n",
    "\n",
    "from string import punctuation\n",
    "import re"
   ]
  },
  {
   "cell_type": "code",
   "execution_count": 8,
   "metadata": {
    "ExecuteTime": {
     "end_time": "2020-07-07T12:26:28.342140Z",
     "start_time": "2020-07-07T12:26:28.328307Z"
    }
   },
   "outputs": [],
   "source": [
    "# Text cleaning \n",
    "\n",
    "def clean_sentence(sentence):\n",
    "    sentence = re.sub(r\"(?:\\@|https?\\://)\\S+|\\n+\", \"\", sentence.lower())\n",
    "    # Fix spelling errors in comments!\n",
    "    sent = TextBlob(sentence)\n",
    "    sent.correct()\n",
    "    clean = \"\"\n",
    "    for sentence in sent.sentences:    \n",
    "        words = sentence.words\n",
    "        # Remove punctuations\n",
    "        words = [''.join(c for c in s if c not in punctuation) for s in words]\n",
    "        words = [s for s in words if s]\n",
    "        clean += \" \".join(words)\n",
    "        clean += \". \"\n",
    "    return clean"
   ]
  },
  {
   "cell_type": "code",
   "execution_count": 9,
   "metadata": {
    "ExecuteTime": {
     "end_time": "2020-07-07T12:26:53.357344Z",
     "start_time": "2020-07-07T12:26:53.352734Z"
    }
   },
   "outputs": [],
   "source": [
    "def compactness_pruning(text):\n",
    "    comments = TextBlob(text)\n",
    "    #compactness pruning:\n",
    "    cleaned = list()\n",
    "    for phrase in comments.noun_phrases:\n",
    "        count = 0\n",
    "        for word in phrase.split():\n",
    "            # Count the number of small words and words without an English definition\n",
    "            if len(word) <= 2 or (not Word(word).definitions):\n",
    "                count += 1\n",
    "        # Only if the 'nonsensical' or short words DO NOT make up more than 40% (arbitrary) of the phrase add\n",
    "        # it to the cleaned list, effectively pruning the ones not added.\n",
    "        if count < len(phrase.split())*0.4:\n",
    "            cleaned.append(phrase)\n",
    "            \n",
    "    return cleaned"
   ]
  },
  {
   "cell_type": "code",
   "execution_count": 10,
   "metadata": {
    "ExecuteTime": {
     "end_time": "2020-07-07T12:36:10.109071Z",
     "start_time": "2020-07-07T12:36:10.105654Z"
    }
   },
   "outputs": [],
   "source": [
    "text = data_subset['Description'].iloc[4]"
   ]
  },
  {
   "cell_type": "code",
   "execution_count": 12,
   "metadata": {
    "ExecuteTime": {
     "end_time": "2020-07-07T12:36:42.115731Z",
     "start_time": "2020-07-07T12:36:42.057334Z"
    }
   },
   "outputs": [],
   "source": [
    "text_clean = clean_sentence(text)"
   ]
  },
  {
   "cell_type": "code",
   "execution_count": 16,
   "metadata": {
    "ExecuteTime": {
     "end_time": "2020-07-07T12:37:18.194799Z",
     "start_time": "2020-07-07T12:37:13.713499Z"
    }
   },
   "outputs": [],
   "source": [
    "noun_phrases = compactness_pruning(text_clean)"
   ]
  },
  {
   "cell_type": "code",
   "execution_count": 22,
   "metadata": {
    "ExecuteTime": {
     "end_time": "2020-07-07T12:53:54.759561Z",
     "start_time": "2020-07-07T12:53:54.755811Z"
    }
   },
   "outputs": [],
   "source": [
    "absa_dict = dict()\n",
    "blob = TextBlob(text)\n",
    "for f in noun_phrases:\n",
    "    absa_dict[f] = list()\n",
    "    # For each sentence of the comment\n",
    "    for sentence in blob.sentences:\n",
    "        # Search for frequent feature 'f'\n",
    "        q = '|'.join(f.split())\n",
    "        if re.search(r'\\w*(' + str(q) + ')\\w*', str(sentence)):\n",
    "            absa_dict[f].append(sentence)"
   ]
  },
  {
   "cell_type": "code",
   "execution_count": 24,
   "metadata": {
    "ExecuteTime": {
     "end_time": "2020-07-07T12:55:05.374577Z",
     "start_time": "2020-07-07T12:55:05.193125Z"
    }
   },
   "outputs": [],
   "source": [
    "scores = list()\n",
    "absa_scores = dict()\n",
    "for k, v in absa_dict.items():\n",
    "    absa_scores[k] = list()\n",
    "    for sent in v:\n",
    "        score = sent.sentiment.polarity\n",
    "        scores.append(score)\n",
    "        absa_scores[k].append(score)"
   ]
  },
  {
   "cell_type": "code",
   "execution_count": 28,
   "metadata": {
    "ExecuteTime": {
     "end_time": "2020-07-07T12:56:55.734536Z",
     "start_time": "2020-07-07T12:56:55.730868Z"
    }
   },
   "outputs": [
    {
     "data": {
      "text/plain": [
       "{'multiple support representatives': [0.0]}"
      ]
     },
     "execution_count": 28,
     "metadata": {},
     "output_type": "execute_result"
    }
   ],
   "source": [
    "absa_scores"
   ]
  },
  {
   "cell_type": "code",
   "execution_count": null,
   "metadata": {},
   "outputs": [],
   "source": []
  }
 ],
 "metadata": {
  "kernelspec": {
   "display_name": "Python 3",
   "language": "python",
   "name": "python3"
  },
  "language_info": {
   "codemirror_mode": {
    "name": "ipython",
    "version": 3
   },
   "file_extension": ".py",
   "mimetype": "text/x-python",
   "name": "python",
   "nbconvert_exporter": "python",
   "pygments_lexer": "ipython3",
   "version": "3.8.3"
  },
  "toc": {
   "base_numbering": 1,
   "nav_menu": {},
   "number_sections": true,
   "sideBar": true,
   "skip_h1_title": false,
   "title_cell": "Table of Contents",
   "title_sidebar": "Contents",
   "toc_cell": false,
   "toc_position": {},
   "toc_section_display": true,
   "toc_window_display": false
  }
 },
 "nbformat": 4,
 "nbformat_minor": 4
}
