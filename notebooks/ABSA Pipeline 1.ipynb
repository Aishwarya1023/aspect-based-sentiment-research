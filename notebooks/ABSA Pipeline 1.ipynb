{
 "cells": [
  {
   "cell_type": "code",
   "execution_count": 4,
   "metadata": {
    "ExecuteTime": {
     "end_time": "2020-09-01T14:01:45.243767Z",
     "start_time": "2020-09-01T14:01:39.496304Z"
    }
   },
   "outputs": [],
   "source": [
    "import spacy\n",
    "import os\n",
    "\n",
    "from spacy import displacy\n",
    "from textblob import TextBlob\n",
    "import aspect_based_sentiment_analysis as absa\n",
    "\n",
    "nlp = spacy.load('en_core_web_sm')"
   ]
  },
  {
   "cell_type": "markdown",
   "metadata": {},
   "source": [
    "### Helpers"
   ]
  },
  {
   "cell_type": "code",
   "execution_count": 5,
   "metadata": {
    "ExecuteTime": {
     "end_time": "2020-09-01T14:01:45.249915Z",
     "start_time": "2020-09-01T14:01:45.245902Z"
    }
   },
   "outputs": [],
   "source": [
    "# nlp.add_pipe(nlp.create_pipe('merge_noun_chunks'))\n",
    "\n",
    "def merge_nouns(doc):\n",
    "    \"\"\"If two consecutive tokens are nouns, it concatenates them into one \\\n",
    "    representing one aspect term.\n",
    "    \n",
    "    Arguments:\n",
    "        doc {obj}: nlp document object\n",
    "    \n",
    "    Returns:\n",
    "        new_text {str}: text for retokenization after nouns have been merged\n",
    "    \"\"\"\n",
    "    \n",
    "    i=0\n",
    "    new_text = ''\n",
    "    while i<len(doc):\n",
    "        if doc[i].dep_ == 'compound':\n",
    "            compound_noun = doc[i].text + doc[i+1].text\n",
    "            new_text = new_text + ' ' + compound_noun\n",
    "            i += 2\n",
    "        else:\n",
    "            new_text = new_text + ' ' + doc[i].text\n",
    "            i += 1\n",
    "    return new_text"
   ]
  },
  {
   "cell_type": "code",
   "execution_count": 37,
   "metadata": {
    "ExecuteTime": {
     "end_time": "2020-09-01T14:10:42.497185Z",
     "start_time": "2020-09-01T14:10:42.494132Z"
    }
   },
   "outputs": [],
   "source": [
    "def tokenize(text):\n",
    "    \"\"\"Parses the given text using nlp pipeline\n",
    "    \n",
    "    Arguments:\n",
    "        text {str}: Text to be parsed\n",
    "    \n",
    "    Returns:\n",
    "        doc {obj}: nlp document object\n",
    "    \"\"\"\n",
    "    \n",
    "    doc_raw = nlp(text)\n",
    "    return doc_raw"
   ]
  },
  {
   "cell_type": "code",
   "execution_count": 18,
   "metadata": {
    "ExecuteTime": {
     "end_time": "2020-09-01T14:02:29.885369Z",
     "start_time": "2020-09-01T14:02:29.882491Z"
    }
   },
   "outputs": [],
   "source": [
    "def plot_dependencies(doc):\n",
    "    \"\"\"Plots the dependencies in the nlp document\n",
    "    \n",
    "    Arguments:\n",
    "        doc {obj}: nlp document object\n",
    "    \n",
    "    Returns: \n",
    "        displacy plot\n",
    "    \"\"\"\n",
    "    \n",
    "    displacy.serve(doc, style=\"dep\")"
   ]
  },
  {
   "cell_type": "code",
   "execution_count": 9,
   "metadata": {
    "ExecuteTime": {
     "end_time": "2020-09-01T14:01:45.269512Z",
     "start_time": "2020-09-01T14:01:45.266754Z"
    }
   },
   "outputs": [],
   "source": [
    "def get_pos_tags(doc):\n",
    "    \"\"\"Prints the pos tags for each token in the document\n",
    "    \n",
    "    Arguments:\n",
    "        doc {obj}: nlp document object\n",
    "    \n",
    "    Returns:\n",
    "        token.pos_ {unicode}: POS tag of each token\n",
    "    \"\"\"\n",
    "    \n",
    "    for token in doc:\n",
    "        print(token.text, token.pos_)"
   ]
  },
  {
   "cell_type": "code",
   "execution_count": 10,
   "metadata": {
    "ExecuteTime": {
     "end_time": "2020-09-01T14:01:45.274352Z",
     "start_time": "2020-09-01T14:01:45.271776Z"
    }
   },
   "outputs": [],
   "source": [
    "def get_aspect_terms(doc):\n",
    "    \"\"\"This function returns the root noun present in noun chunks of the document.\n",
    "    \n",
    "    Arguments:\n",
    "        doc {obj}: nlp document object\n",
    "    \n",
    "    Returns:\n",
    "        aspects {list{str}}: list of root nouns as aspects\n",
    "    \"\"\"\n",
    "                                            \n",
    "    aspects = [(chunk.root.text) for chunk in doc.noun_chunks if chunk.root.pos_ == 'NOUN']\n",
    "    return aspects"
   ]
  },
  {
   "cell_type": "code",
   "execution_count": 11,
   "metadata": {
    "ExecuteTime": {
     "end_time": "2020-09-01T14:01:45.280197Z",
     "start_time": "2020-09-01T14:01:45.277127Z"
    }
   },
   "outputs": [],
   "source": [
    "def get_sentiment_terms(doc):\n",
    "    \"\"\"This function return the adjectives and verbs that are not stopwords \\\n",
    "    or punctuations, indicating a descriptive/polarized word.\n",
    "    \n",
    "    Arguments:\n",
    "        doc {obj}: nlp document object\n",
    "    \n",
    "    Returns:\n",
    "        sentiment_terms {list{str}}: list of sentiment terms\n",
    "    \"\"\"\n",
    "    \n",
    "    sentiment_terms = []\n",
    "    if doc.is_parsed:\n",
    "        sentiment_terms.append([token.lemma_ for token in doc if \\\n",
    "                                (not token.is_stop and not token.is_punct \\\n",
    "                                 and (token.pos_ == \"ADJ\" or token.pos_ == \"VERB\"))])\n",
    "    else:\n",
    "        sentiment_terms.append('') \n",
    "    return sentiment_terms"
   ]
  },
  {
   "cell_type": "code",
   "execution_count": 12,
   "metadata": {
    "ExecuteTime": {
     "end_time": "2020-09-01T14:01:45.285164Z",
     "start_time": "2020-09-01T14:01:45.282157Z"
    }
   },
   "outputs": [],
   "source": [
    "def get_dependencies(doc):\n",
    "    \"\"\"Prints the dependency tree of the document\n",
    "    \n",
    "    Arguments:\n",
    "        doc {obj}: nlp document object\n",
    "    \n",
    "    Returns:\n",
    "        token.text {unicode}: Verbatim text content\n",
    "        token.dep_ {unicode}: Syntactic dependency relation\n",
    "        token.head.text {unicode}: The syntactic parent, or “governor”, of a token\n",
    "        token.head.pos_ {unicode}: POS tag of the governor\n",
    "        children {list}: list of children of a token\n",
    "        \n",
    "    \"\"\"\n",
    "    \n",
    "    for token in doc:\n",
    "        print(token.text, token.dep_, token.head.text, token.head.pos_,\n",
    "                [child for child in token.children])"
   ]
  },
  {
   "cell_type": "code",
   "execution_count": 13,
   "metadata": {
    "ExecuteTime": {
     "end_time": "2020-09-01T14:01:45.290931Z",
     "start_time": "2020-09-01T14:01:45.286949Z"
    }
   },
   "outputs": [],
   "source": [
    "def get_opinion_pairs(doc):\n",
    "    \"\"\"This function returns the opinion pairs based on pre-defined rules.\n",
    "    \n",
    "    Arguments:\n",
    "        doc {obj}: nlp document object\n",
    "    \n",
    "    Returns:\n",
    "        opinion_pairs {list{tuple}}: list of tuples consisiting of (aspect, opinion)\n",
    "    \"\"\"\n",
    "    \n",
    "    opinion_pairs = []\n",
    "    for token in doc:\n",
    "        if token.dep_ == 'nsubj' and TextBlob(token.head.text).polarity > 0.4:\n",
    "            opinion_pairs.append((token.text, token.head.text))\n",
    "        elif token.dep_ == 'dobj' and (token.head.pos_ == 'ADJ' or TextBlob(token.head.text).polarity > 0.4):\n",
    "            opinion_pairs.append((token.text, token.head.text))\n",
    "        elif token.dep_ == 'amod' and token.head.pos_ == 'ADJ':\n",
    "            opinion_pairs.append((token.text, token.head.text))\n",
    "    return opinion_pairs"
   ]
  },
  {
   "cell_type": "code",
   "execution_count": 68,
   "metadata": {
    "ExecuteTime": {
     "end_time": "2020-09-01T14:27:19.860631Z",
     "start_time": "2020-09-01T14:27:19.856808Z"
    }
   },
   "outputs": [],
   "source": [
    "def get_attention_gradient(text):\n",
    "    nlp = absa.load(pattern_recognizer=absa.probing.AttentionGradientProduct())\n",
    "    service, conversation = nlp(text, aspects=['service', 'conversation'])\n",
    "    display(absa.probing.explain(service.examples[0]))\n",
    "    display(absa.probing.explain(conversation.examples[0]))"
   ]
  },
  {
   "cell_type": "markdown",
   "metadata": {},
   "source": [
    "### Implementation"
   ]
  },
  {
   "cell_type": "code",
   "execution_count": 38,
   "metadata": {
    "ExecuteTime": {
     "end_time": "2020-09-01T14:10:48.591824Z",
     "start_time": "2020-09-01T14:10:48.589281Z"
    }
   },
   "outputs": [],
   "source": [
    "text = \"Slow service, but the waiter were friendly. He kept us engaged in conversation\""
   ]
  },
  {
   "cell_type": "code",
   "execution_count": 75,
   "metadata": {
    "ExecuteTime": {
     "end_time": "2020-09-01T14:35:00.094040Z",
     "start_time": "2020-09-01T14:35:00.060951Z"
    }
   },
   "outputs": [
    {
     "ename": "TypeError",
     "evalue": "__call__() missing 1 required positional argument: 'aspects'",
     "output_type": "error",
     "traceback": [
      "\u001b[0;31m---------------------------------------------------------------------------\u001b[0m",
      "\u001b[0;31mTypeError\u001b[0m                                 Traceback (most recent call last)",
      "\u001b[0;32m<ipython-input-75-5359e3084d0e>\u001b[0m in \u001b[0;36m<module>\u001b[0;34m\u001b[0m\n\u001b[1;32m      5\u001b[0m     \u001b[0;32mreturn\u001b[0m \u001b[0mdoc\u001b[0m\u001b[0;34m\u001b[0m\u001b[0;34m\u001b[0m\u001b[0m\n\u001b[1;32m      6\u001b[0m \u001b[0;34m\u001b[0m\u001b[0m\n\u001b[0;32m----> 7\u001b[0;31m \u001b[0mres\u001b[0m \u001b[0;34m=\u001b[0m \u001b[0mfunc_1\u001b[0m\u001b[0;34m(\u001b[0m\u001b[0mtext\u001b[0m\u001b[0;34m)\u001b[0m\u001b[0;34m\u001b[0m\u001b[0;34m\u001b[0m\u001b[0m\n\u001b[0m",
      "\u001b[0;32m<ipython-input-75-5359e3084d0e>\u001b[0m in \u001b[0;36mfunc_1\u001b[0;34m(text)\u001b[0m\n\u001b[1;32m      1\u001b[0m \u001b[0;32mdef\u001b[0m \u001b[0mfunc_1\u001b[0m\u001b[0;34m(\u001b[0m\u001b[0mtext\u001b[0m\u001b[0;34m)\u001b[0m\u001b[0;34m:\u001b[0m\u001b[0;34m\u001b[0m\u001b[0;34m\u001b[0m\u001b[0m\n\u001b[0;32m----> 2\u001b[0;31m     \u001b[0mdoc1\u001b[0m \u001b[0;34m=\u001b[0m \u001b[0mtokenize\u001b[0m\u001b[0;34m(\u001b[0m\u001b[0mtext\u001b[0m\u001b[0;34m)\u001b[0m\u001b[0;34m\u001b[0m\u001b[0;34m\u001b[0m\u001b[0m\n\u001b[0m\u001b[1;32m      3\u001b[0m     \u001b[0mnew_text\u001b[0m \u001b[0;34m=\u001b[0m \u001b[0mmerge_nouns\u001b[0m\u001b[0;34m(\u001b[0m\u001b[0mdoc1\u001b[0m\u001b[0;34m)\u001b[0m\u001b[0;34m\u001b[0m\u001b[0;34m\u001b[0m\u001b[0m\n\u001b[1;32m      4\u001b[0m     \u001b[0mdoc\u001b[0m \u001b[0;34m=\u001b[0m \u001b[0mtokenize\u001b[0m\u001b[0;34m(\u001b[0m\u001b[0mnew_text\u001b[0m\u001b[0;34m)\u001b[0m\u001b[0;34m\u001b[0m\u001b[0;34m\u001b[0m\u001b[0m\n\u001b[1;32m      5\u001b[0m     \u001b[0;32mreturn\u001b[0m \u001b[0mdoc\u001b[0m\u001b[0;34m\u001b[0m\u001b[0;34m\u001b[0m\u001b[0m\n",
      "\u001b[0;32m<ipython-input-37-c316187a9612>\u001b[0m in \u001b[0;36mtokenize\u001b[0;34m(text)\u001b[0m\n\u001b[1;32m      9\u001b[0m     \"\"\"\n\u001b[1;32m     10\u001b[0m \u001b[0;34m\u001b[0m\u001b[0m\n\u001b[0;32m---> 11\u001b[0;31m     \u001b[0mdoc_raw\u001b[0m \u001b[0;34m=\u001b[0m \u001b[0mnlp\u001b[0m\u001b[0;34m(\u001b[0m\u001b[0mtext\u001b[0m\u001b[0;34m)\u001b[0m\u001b[0;34m\u001b[0m\u001b[0;34m\u001b[0m\u001b[0m\n\u001b[0m\u001b[1;32m     12\u001b[0m     \u001b[0;32mreturn\u001b[0m \u001b[0mdoc_raw\u001b[0m\u001b[0;34m\u001b[0m\u001b[0;34m\u001b[0m\u001b[0m\n",
      "\u001b[0;31mTypeError\u001b[0m: __call__() missing 1 required positional argument: 'aspects'"
     ]
    }
   ],
   "source": [
    "def func_1(text):\n",
    "    doc1 = tokenize(text)\n",
    "    new_text = merge_nouns(doc1)\n",
    "    doc = tokenize(new_text)\n",
    "    return doc\n",
    "\n",
    "res = func_1(text)"
   ]
  },
  {
   "cell_type": "code",
   "execution_count": 39,
   "metadata": {
    "ExecuteTime": {
     "end_time": "2020-09-01T14:10:48.801676Z",
     "start_time": "2020-09-01T14:10:48.782558Z"
    }
   },
   "outputs": [],
   "source": [
    "doc1 = tokenize(text)\n",
    "new_text = merge_nouns(doc1)\n",
    "doc = tokenize(new_text)"
   ]
  },
  {
   "cell_type": "code",
   "execution_count": 41,
   "metadata": {
    "ExecuteTime": {
     "end_time": "2020-09-01T14:10:56.690405Z",
     "start_time": "2020-09-01T14:10:56.686728Z"
    }
   },
   "outputs": [
    {
     "data": {
      "text/plain": [
       "['service', 'waiter', 'conversation']"
      ]
     },
     "execution_count": 41,
     "metadata": {},
     "output_type": "execute_result"
    }
   ],
   "source": [
    "get_aspect_terms(doc)"
   ]
  },
  {
   "cell_type": "code",
   "execution_count": 42,
   "metadata": {
    "ExecuteTime": {
     "end_time": "2020-09-01T14:10:56.860592Z",
     "start_time": "2020-09-01T14:10:56.856765Z"
    }
   },
   "outputs": [
    {
     "data": {
      "text/plain": [
       "[['slow', 'friendly', 'keep', 'engage']]"
      ]
     },
     "execution_count": 42,
     "metadata": {},
     "output_type": "execute_result"
    }
   ],
   "source": [
    "get_sentiment_terms(doc)"
   ]
  },
  {
   "cell_type": "code",
   "execution_count": 43,
   "metadata": {
    "ExecuteTime": {
     "end_time": "2020-09-01T14:10:57.466089Z",
     "start_time": "2020-09-01T14:10:57.431386Z"
    }
   },
   "outputs": [
    {
     "data": {
      "text/plain": [
       "[('service', 'Slow')]"
      ]
     },
     "execution_count": 43,
     "metadata": {},
     "output_type": "execute_result"
    }
   ],
   "source": [
    "get_opinion_pairs(doc)"
   ]
  },
  {
   "cell_type": "code",
   "execution_count": 69,
   "metadata": {
    "ExecuteTime": {
     "end_time": "2020-09-01T14:27:33.422908Z",
     "start_time": "2020-09-01T14:27:26.932695Z"
    }
   },
   "outputs": [
    {
     "name": "stderr",
     "output_type": "stream",
     "text": [
      "Some weights of the model checkpoint at absa/classifier-rest-0.1 were not used when initializing BertABSClassifier: ['extractor', 'dropout_4711']\n",
      "- This IS expected if you are initializing BertABSClassifier from the checkpoint of a model trained on another task or with another architecture (e.g. initializing a BertForSequenceClassification model from a BertForPretraining model).\n",
      "- This IS NOT expected if you are initializing BertABSClassifier from the checkpoint of a model that you expect to be exactly identical (initializing a BertForSequenceClassification model from a BertForSequenceClassification model).\n",
      "Some weights of BertABSClassifier were not initialized from the model checkpoint at absa/classifier-rest-0.1 and are newly initialized: ['dropout_341']\n",
      "You should probably TRAIN this model on a down-stream task to be able to use it for predictions and inference.\n"
     ]
    },
    {
     "data": {
      "text/html": [
       "Words connected with the \"service\" aspect: <br> <span style=\"background-color:rgba(135,206,250,0.4014192377703669);\">slow</span> <span style=\"background-color:rgba(135,206,250,1.2499999999999991);\">service</span> <span style=\"background-color:rgba(135,206,250,0.05648169693913277);\">,</span> <span style=\"background-color:rgba(135,206,250,0.07314342587078927);\">but</span> <span style=\"background-color:rgba(135,206,250,0.03971789525836163);\">the</span> <span style=\"background-color:rgba(135,206,250,0.17702787006811885);\">waiter</span> <span style=\"background-color:rgba(135,206,250,0.0254187284022886);\">were</span> <span style=\"background-color:rgba(135,206,250,0.13832247821562998);\">friendly</span> <span style=\"background-color:rgba(135,206,250,0.5884148801268047);\">.</span> <span style=\"background-color:rgba(135,206,250,0.01401570378206088);\">he</span> <span style=\"background-color:rgba(135,206,250,0.31614676249509654);\">kept</span> <span style=\"background-color:rgba(135,206,250,0.006412486483655165);\">us</span> <span style=\"background-color:rgba(135,206,250,0.09527259187428337);\">engaged</span> <span style=\"background-color:rgba(135,206,250,0.03802796748825411);\">in</span> <span style=\"background-color:rgba(135,206,250,0.5498483812676375);\">conversation</span> <br><br> The model uses these patterns to make a prediction: <br> <span style=\"background-color:rgba(117,255,104,1.2499999999999998);\">impact 1.00</span> <span style=\"background-color:rgba(135,206,250,0.29707881941353764);\">slow</span> <span style=\"background-color:rgba(135,206,250,1.25);\">service</span> <span style=\"background-color:rgba(135,206,250,0.05670041503349587);\">,</span> <span style=\"background-color:rgba(135,206,250,0.06367576872192057);\">but</span> <span style=\"background-color:rgba(135,206,250,0.01718036084672526);\">the</span> <span style=\"background-color:rgba(135,206,250,0.005967841060971705);\">waiter</span> <span style=\"background-color:rgba(135,206,250,0.01745457528098182);\">were</span> <span style=\"background-color:rgba(135,206,250,0.017434713907585487);\">friendly</span> <span style=\"background-color:rgba(135,206,250,0.038174137963535214);\">.</span> <span style=\"background-color:rgba(135,206,250,0.034774298410705735);\">he</span> <span style=\"background-color:rgba(135,206,250,0.017606984884177952);\">kept</span> <span style=\"background-color:rgba(135,206,250,0.002900467299430655);\">us</span> <span style=\"background-color:rgba(135,206,250,0.03625620598318554);\">engaged</span> <span style=\"background-color:rgba(135,206,250,0.003696661034133088);\">in</span> <span style=\"background-color:rgba(135,206,250,0.06749744416712286);\">conversation</span><br> <span style=\"background-color:rgba(250,102,109,0.9280566086904338);\">impact -0.74</span> <span style=\"background-color:rgba(135,206,250,0.04580539818947132);\">slow</span> <span style=\"background-color:rgba(135,206,250,0.024990915542706767);\">service</span> <span style=\"background-color:rgba(135,206,250,0.019168493220926078);\">,</span> <span style=\"background-color:rgba(135,206,250,0.0019964977083093143);\">but</span> <span style=\"background-color:rgba(135,206,250,0.00016788617552168409);\">the</span> <span style=\"background-color:rgba(135,206,250,0.01183569132384552);\">waiter</span> <span style=\"background-color:rgba(135,206,250,0.003964181143636966);\">were</span> <span style=\"background-color:rgba(135,206,250,0.03573240185908192);\">friendly</span> <span style=\"background-color:rgba(135,206,250,0.0014298774127571414);\">.</span> <span style=\"background-color:rgba(135,206,250,0.002120887895512845);\">he</span> <span style=\"background-color:rgba(135,206,250,0.0260737256772131);\">kept</span> <span style=\"background-color:rgba(135,206,250,0.005013776654219414);\">us</span> <span style=\"background-color:rgba(135,206,250,0.06983767492790054);\">engaged</span> <span style=\"background-color:rgba(135,206,250,0.0496389605329646);\">in</span> <span style=\"background-color:rgba(135,206,250,0.05560626635238781);\">conversation</span><br> <span style=\"background-color:rgba(250,102,109,0.6710060494978118);\">impact -0.54</span> <span style=\"background-color:rgba(135,206,250,0.007908644366884848);\">slow</span> <span style=\"background-color:rgba(135,206,250,0.14921893965258498);\">service</span> <span style=\"background-color:rgba(135,206,250,0.015538049240120096);\">,</span> <span style=\"background-color:rgba(135,206,250,0.01916958368434168);\">but</span> <span style=\"background-color:rgba(135,206,250,0.002962301715624705);\">the</span> <span style=\"background-color:rgba(135,206,250,0.02232278550927404);\">waiter</span> <span style=\"background-color:rgba(135,206,250,0.14958987115118808);\">were</span> <span style=\"background-color:rgba(135,206,250,0.12278849836312788);\">friendly</span> <span style=\"background-color:rgba(135,206,250,0.01631940950432667);\">.</span> <span style=\"background-color:rgba(135,206,250,0.009411073949576024);\">he</span> <span style=\"background-color:rgba(135,206,250,0.020165768390390287);\">kept</span> <span style=\"background-color:rgba(135,206,250,0.007426323130095941);\">us</span> <span style=\"background-color:rgba(135,206,250,0.007888546034953781);\">engaged</span> <span style=\"background-color:rgba(135,206,250,0.001181690137602629);\">in</span> <span style=\"background-color:rgba(135,206,250,0.0045384324901483735);\">conversation</span><br> <span style=\"background-color:rgba(250,102,109,0.588449067138316);\">impact -0.47</span> <span style=\"background-color:rgba(135,206,250,0.01810167529471127);\">slow</span> <span style=\"background-color:rgba(135,206,250,0.05763570112115339);\">service</span> <span style=\"background-color:rgba(135,206,250,0.017349667615215697);\">,</span> <span style=\"background-color:rgba(135,206,250,0.013875848802077737);\">but</span> <span style=\"background-color:rgba(135,206,250,0.0218639667607391);\">the</span> <span style=\"background-color:rgba(135,206,250,0.05594485099333466);\">waiter</span> <span style=\"background-color:rgba(135,206,250,0.04990466944044706);\">were</span> <span style=\"background-color:rgba(135,206,250,0.03888460722387538);\">friendly</span> <span style=\"background-color:rgba(135,206,250,0.05423375053975785);\">.</span> <span style=\"background-color:rgba(135,206,250,0.1356731931105636);\">he</span> <span style=\"background-color:rgba(135,206,250,0.010454524895331151);\">kept</span> <span style=\"background-color:rgba(135,206,250,0.1588039120156483);\">us</span> <span style=\"background-color:rgba(135,206,250,0.17114876114332345);\">engaged</span> <span style=\"background-color:rgba(135,206,250,0.052825062902786935);\">in</span> <span style=\"background-color:rgba(135,206,250,0.10601883051594763);\">conversation</span><br> <span style=\"background-color:rgba(250,102,109,0.3686842061282092);\">impact -0.29</span> <span style=\"background-color:rgba(135,206,250,0.029670483622277383);\">slow</span> <span style=\"background-color:rgba(135,206,250,0.008212704725157057);\">service</span> <span style=\"background-color:rgba(135,206,250,0.006334792810436929);\">,</span> <span style=\"background-color:rgba(135,206,250,0.006370264961350343);\">but</span> <span style=\"background-color:rgba(135,206,250,0.007703748130677734);\">the</span> <span style=\"background-color:rgba(135,206,250,0.03799492985039592);\">waiter</span> <span style=\"background-color:rgba(135,206,250,0.018194958377939753);\">were</span> <span style=\"background-color:rgba(135,206,250,0.01008338336387343);\">friendly</span> <span style=\"background-color:rgba(135,206,250,0.008794932557354314);\">.</span> <span style=\"background-color:rgba(135,206,250,0.04623170945867972);\">he</span> <span style=\"background-color:rgba(135,206,250,0.022701279618468146);\">kept</span> <span style=\"background-color:rgba(135,206,250,0.007139960669315931);\">us</span> <span style=\"background-color:rgba(135,206,250,0.004297884100954575);\">engaged</span> <span style=\"background-color:rgba(135,206,250,3.554632481713319e-05);\">in</span> <span style=\"background-color:rgba(135,206,250,0.0173280649762547);\">conversation</span><br> <span style=\"background-color:rgba(250,102,109,0.36366005828071263);\">impact -0.29</span> <span style=\"background-color:rgba(135,206,250,0.004524373073598568);\">slow</span> <span style=\"background-color:rgba(135,206,250,0.022726645347451682);\">service</span> <span style=\"background-color:rgba(135,206,250,0.005224435266702294);\">,</span> <span style=\"background-color:rgba(135,206,250,0.0037790585134807675);\">but</span> <span style=\"background-color:rgba(135,206,250,0.002801176607867195);\">the</span> <span style=\"background-color:rgba(135,206,250,0.0016579190251571094);\">waiter</span> <span style=\"background-color:rgba(135,206,250,0.005362398819878835);\">were</span> <span style=\"background-color:rgba(135,206,250,0.001242253005416492);\">friendly</span> <span style=\"background-color:rgba(135,206,250,0.004753376345967912);\">.</span> <span style=\"background-color:rgba(135,206,250,0.0008169437306062636);\">he</span> <span style=\"background-color:rgba(135,206,250,0.004953840386283818);\">kept</span> <span style=\"background-color:rgba(135,206,250,0.011161770173202176);\">us</span> <span style=\"background-color:rgba(135,206,250,0.004503662416404609);\">engaged</span> <span style=\"background-color:rgba(135,206,250,0.01855573303416214);\">in</span> <span style=\"background-color:rgba(135,206,250,0.016181636266006327);\">conversation</span><br> <span style=\"background-color:rgba(250,102,109,0.3290054303495877);\">impact -0.26</span> <span style=\"background-color:rgba(135,206,250,0.0069094410158455485);\">slow</span> <span style=\"background-color:rgba(135,206,250,0.006382468316741043);\">service</span> <span style=\"background-color:rgba(135,206,250,0.010481594964149242);\">,</span> <span style=\"background-color:rgba(135,206,250,0.013235874748722495);\">but</span> <span style=\"background-color:rgba(135,206,250,0.006949291949974063);\">the</span> <span style=\"background-color:rgba(135,206,250,0.004309524174909598);\">waiter</span> <span style=\"background-color:rgba(135,206,250,0.025693150205087816);\">were</span> <span style=\"background-color:rgba(135,206,250,0.04065847407234553);\">friendly</span> <span style=\"background-color:rgba(135,206,250,0.010403640573552596);\">.</span> <span style=\"background-color:rgba(135,206,250,0.014578035790048259);\">he</span> <span style=\"background-color:rgba(135,206,250,0.0024040816987444106);\">kept</span> <span style=\"background-color:rgba(135,206,250,0.0021937293322941767);\">us</span> <span style=\"background-color:rgba(135,206,250,0.000846008065859577);\">engaged</span> <span style=\"background-color:rgba(135,206,250,0.0007662726456333031);\">in</span> <span style=\"background-color:rgba(135,206,250,0.0021666484041898814);\">conversation</span><br> <span style=\"background-color:rgba(250,102,109,0.3057458985624768);\">impact -0.24</span> <span style=\"background-color:rgba(135,206,250,0.01913384293283109);\">slow</span> <span style=\"background-color:rgba(135,206,250,0.023918604581363474);\">service</span> <span style=\"background-color:rgba(135,206,250,0.010088967311848416);\">,</span> <span style=\"background-color:rgba(135,206,250,0.004972354245792727);\">but</span> <span style=\"background-color:rgba(135,206,250,0.005721098025585592);\">the</span> <span style=\"background-color:rgba(135,206,250,0.02044253916476286);\">waiter</span> <span style=\"background-color:rgba(135,206,250,0.011867150474454831);\">were</span> <span style=\"background-color:rgba(135,206,250,0.03290425409361764);\">friendly</span> <span style=\"background-color:rgba(135,206,250,0.014932789683501162);\">.</span> <span style=\"background-color:rgba(135,206,250,0.007110538774540225);\">he</span> <span style=\"background-color:rgba(135,206,250,0.0031232056795572776);\">kept</span> <span style=\"background-color:rgba(135,206,250,0.005300895975487641);\">us</span> <span style=\"background-color:rgba(135,206,250,0.007192620973529751);\">engaged</span> <span style=\"background-color:rgba(135,206,250,0.0038882806171889935);\">in</span> <span style=\"background-color:rgba(135,206,250,0.0029411242210215173);\">conversation</span><br> <span style=\"background-color:rgba(250,102,109,0.30467354821809994);\">impact -0.24</span> <span style=\"background-color:rgba(135,206,250,0.07694127365954799);\">slow</span> <span style=\"background-color:rgba(135,206,250,0.09340495345599867);\">service</span> <span style=\"background-color:rgba(135,206,250,0.0021331426430603326);\">,</span> <span style=\"background-color:rgba(135,206,250,0.08879921184749258);\">but</span> <span style=\"background-color:rgba(135,206,250,0.07039932633558774);\">the</span> <span style=\"background-color:rgba(135,206,250,0.014777420488618466);\">waiter</span> <span style=\"background-color:rgba(135,206,250,0.08334945065915599);\">were</span> <span style=\"background-color:rgba(135,206,250,0.09249592337063568);\">friendly</span> <span style=\"background-color:rgba(135,206,250,0.03789311854263113);\">.</span> <span style=\"background-color:rgba(135,206,250,0.0345696106296649);\">he</span> <span style=\"background-color:rgba(135,206,250,0.03871749757674345);\">kept</span> <span style=\"background-color:rgba(135,206,250,0.005252238306823945);\">us</span> <span style=\"background-color:rgba(135,206,250,0.006469815103866343);\">engaged</span> <span style=\"background-color:rgba(135,206,250,0.004230359655578433);\">in</span> <span style=\"background-color:rgba(135,206,250,6.447688163796425e-05);\">conversation</span><br>"
      ],
      "text/plain": [
       "<IPython.core.display.HTML object>"
      ]
     },
     "metadata": {},
     "output_type": "display_data"
    },
    {
     "data": {
      "text/html": [
       "Words connected with the \"conversation\" aspect: <br> <span style=\"background-color:rgba(135,206,250,0.11610414812692993);\">slow</span> <span style=\"background-color:rgba(135,206,250,0.06333526916829982);\">service</span> <span style=\"background-color:rgba(135,206,250,0.00432693278024779);\">,</span> <span style=\"background-color:rgba(135,206,250,0.00654929187502843);\">but</span> <span style=\"background-color:rgba(135,206,250,0.004851371807503403);\">the</span> <span style=\"background-color:rgba(135,206,250,0.019943145725410862);\">waiter</span> <span style=\"background-color:rgba(135,206,250,0.0006923065206414921);\">were</span> <span style=\"background-color:rgba(135,206,250,0.0001828413206922354);\">friendly</span> <span style=\"background-color:rgba(135,206,250,0.052323898186727384);\">.</span> <span style=\"background-color:rgba(135,206,250,0.031141114487832928);\">he</span> <span style=\"background-color:rgba(135,206,250,0.03990406796900301);\">kept</span> <span style=\"background-color:rgba(135,206,250,0.0019423536880014375);\">us</span> <span style=\"background-color:rgba(135,206,250,0.23938893201046252);\">engaged</span> <span style=\"background-color:rgba(135,206,250,0.04006086538189168);\">in</span> <span style=\"background-color:rgba(135,206,250,1.25);\">conversation</span> <br><br> The model uses these patterns to make a prediction: <br> <span style=\"background-color:rgba(250,102,109,1.25);\">impact -1.00</span> <span style=\"background-color:rgba(135,206,250,0.12520434894856983);\">slow</span> <span style=\"background-color:rgba(135,206,250,0.19019722756704854);\">service</span> <span style=\"background-color:rgba(135,206,250,0.15380813859480302);\">,</span> <span style=\"background-color:rgba(135,206,250,0.1272635324840429);\">but</span> <span style=\"background-color:rgba(135,206,250,0.06274328680296125);\">the</span> <span style=\"background-color:rgba(135,206,250,0.008480159569429734);\">waiter</span> <span style=\"background-color:rgba(135,206,250,0.07936494830824804);\">were</span> <span style=\"background-color:rgba(135,206,250,0.4065146924684479);\">friendly</span> <span style=\"background-color:rgba(135,206,250,0.8105930583293953);\">.</span> <span style=\"background-color:rgba(135,206,250,0.06645480123357549);\">he</span> <span style=\"background-color:rgba(135,206,250,0.3497490048257822);\">kept</span> <span style=\"background-color:rgba(135,206,250,0.03799594409375091);\">us</span> <span style=\"background-color:rgba(135,206,250,0.2733230142678955);\">engaged</span> <span style=\"background-color:rgba(135,206,250,0.17799931767540342);\">in</span> <span style=\"background-color:rgba(135,206,250,0.25940451328970116);\">conversation</span><br> <span style=\"background-color:rgba(117,255,104,0.5384333624162146);\">impact 0.43</span> <span style=\"background-color:rgba(135,206,250,0.023779304106897967);\">slow</span> <span style=\"background-color:rgba(135,206,250,0.04845528141616853);\">service</span> <span style=\"background-color:rgba(135,206,250,0.02893182636567467);\">,</span> <span style=\"background-color:rgba(135,206,250,0.04488659421363507);\">but</span> <span style=\"background-color:rgba(135,206,250,0.0645214102306488);\">the</span> <span style=\"background-color:rgba(135,206,250,0.14283661245338877);\">waiter</span> <span style=\"background-color:rgba(135,206,250,0.07016135887966224);\">were</span> <span style=\"background-color:rgba(135,206,250,0.01900458123528033);\">friendly</span> <span style=\"background-color:rgba(135,206,250,0.01926134286767938);\">.</span> <span style=\"background-color:rgba(135,206,250,0.37231114393844916);\">he</span> <span style=\"background-color:rgba(135,206,250,0.1980748190496711);\">kept</span> <span style=\"background-color:rgba(135,206,250,0.574257177776931);\">us</span> <span style=\"background-color:rgba(135,206,250,0.5103782551578968);\">engaged</span> <span style=\"background-color:rgba(135,206,250,0.12336451830463513);\">in</span> <span style=\"background-color:rgba(135,206,250,0.5198449235262872);\">conversation</span><br> <span style=\"background-color:rgba(117,255,104,0.3944240086870186);\">impact 0.32</span> <span style=\"background-color:rgba(135,206,250,0.032762995586800396);\">slow</span> <span style=\"background-color:rgba(135,206,250,0.0988904114387105);\">service</span> <span style=\"background-color:rgba(135,206,250,0.0064666381338795475);\">,</span> <span style=\"background-color:rgba(135,206,250,0.02293736405719462);\">but</span> <span style=\"background-color:rgba(135,206,250,0.008219628213582022);\">the</span> <span style=\"background-color:rgba(135,206,250,0.0007302265651211793);\">waiter</span> <span style=\"background-color:rgba(135,206,250,0.00039204377635320613);\">were</span> <span style=\"background-color:rgba(135,206,250,0.0899152116718418);\">friendly</span> <span style=\"background-color:rgba(135,206,250,0.02192364143170147);\">.</span> <span style=\"background-color:rgba(135,206,250,0.019914466919986704);\">he</span> <span style=\"background-color:rgba(135,206,250,0.09013419269973713);\">kept</span> <span style=\"background-color:rgba(135,206,250,0.11261223600078947);\">us</span> <span style=\"background-color:rgba(135,206,250,0.1755734793186714);\">engaged</span> <span style=\"background-color:rgba(135,206,250,0.17904310931598863);\">in</span> <span style=\"background-color:rgba(135,206,250,1.25);\">conversation</span><br> <span style=\"background-color:rgba(250,102,109,0.15638848265133246);\">impact -0.13</span> <span style=\"background-color:rgba(135,206,250,0.0052934387376280196);\">slow</span> <span style=\"background-color:rgba(135,206,250,0.040605492179503315);\">service</span> <span style=\"background-color:rgba(135,206,250,0.03415905943428201);\">,</span> <span style=\"background-color:rgba(135,206,250,0.02988037883076443);\">but</span> <span style=\"background-color:rgba(135,206,250,0.0546214925486903);\">the</span> <span style=\"background-color:rgba(135,206,250,0.10237178869513763);\">waiter</span> <span style=\"background-color:rgba(135,206,250,0.11523166400513926);\">were</span> <span style=\"background-color:rgba(135,206,250,0.11987647050491944);\">friendly</span> <span style=\"background-color:rgba(135,206,250,0.1936353933089162);\">.</span> <span style=\"background-color:rgba(135,206,250,0.02714736806324562);\">he</span> <span style=\"background-color:rgba(135,206,250,0.0033209315027784223);\">kept</span> <span style=\"background-color:rgba(135,206,250,0.050269004680879525);\">us</span> <span style=\"background-color:rgba(135,206,250,0.02933317415520613);\">engaged</span> <span style=\"background-color:rgba(135,206,250,0.03277803824151124);\">in</span> <span style=\"background-color:rgba(135,206,250,0.05836681744997148);\">conversation</span><br> <span style=\"background-color:rgba(250,102,109,0.143137848144869);\">impact -0.11</span> <span style=\"background-color:rgba(135,206,250,0.27071713051494356);\">slow</span> <span style=\"background-color:rgba(135,206,250,0.006814817802773184);\">service</span> <span style=\"background-color:rgba(135,206,250,0.022410823219589555);\">,</span> <span style=\"background-color:rgba(135,206,250,0.10860908216831545);\">but</span> <span style=\"background-color:rgba(135,206,250,0.008006345965201474);\">the</span> <span style=\"background-color:rgba(135,206,250,0.10522238729372094);\">waiter</span> <span style=\"background-color:rgba(135,206,250,0.14159453592056795);\">were</span> <span style=\"background-color:rgba(135,206,250,0.23645200336337954);\">friendly</span> <span style=\"background-color:rgba(135,206,250,0.14574799162319999);\">.</span> <span style=\"background-color:rgba(135,206,250,0.0366517939419597);\">he</span> <span style=\"background-color:rgba(135,206,250,0.15825868957610614);\">kept</span> <span style=\"background-color:rgba(135,206,250,0.0210567737232515);\">us</span> <span style=\"background-color:rgba(135,206,250,0.20554436807826768);\">engaged</span> <span style=\"background-color:rgba(135,206,250,0.04945125431762576);\">in</span> <span style=\"background-color:rgba(135,206,250,0.5274527804627025);\">conversation</span><br>"
      ],
      "text/plain": [
       "<IPython.core.display.HTML object>"
      ]
     },
     "metadata": {},
     "output_type": "display_data"
    }
   ],
   "source": [
    "get_attention_gradient(text)"
   ]
  },
  {
   "cell_type": "code",
   "execution_count": 70,
   "metadata": {
    "ExecuteTime": {
     "end_time": "2020-09-01T14:30:52.756208Z",
     "start_time": "2020-09-01T14:27:59.091897Z"
    }
   },
   "outputs": [
    {
     "name": "stderr",
     "output_type": "stream",
     "text": [
      "/Users/a0s01w2/Downloads/anaconda3/envs/absa_spacy/lib/python3.8/runpy.py:194: UserWarning: [W011] It looks like you're calling displacy.serve from within a Jupyter notebook or a similar environment. This likely means you're already running a local web server, so there's no need to make displaCy start another one. Instead, you should be able to replace displacy.serve with displacy.render to show the visualization.\n",
      "  return _run_code(code, main_globals, None,\n"
     ]
    },
    {
     "data": {
      "text/html": [
       "<!DOCTYPE html>\n",
       "<html lang=\"en\">\n",
       "    <head>\n",
       "        <title>displaCy</title>\n",
       "    </head>\n",
       "\n",
       "    <body style=\"font-size: 16px; font-family: -apple-system, BlinkMacSystemFont, 'Segoe UI', Helvetica, Arial, sans-serif, 'Apple Color Emoji', 'Segoe UI Emoji', 'Segoe UI Symbol'; padding: 4rem 2rem; direction: ltr\">\n",
       "<figure style=\"margin-bottom: 6rem\">\n",
       "<svg xmlns=\"http://www.w3.org/2000/svg\" xmlns:xlink=\"http://www.w3.org/1999/xlink\" xml:lang=\"en\" id=\"8d107bd2d38b426cb0f03b513098b3c7-0\" class=\"displacy\" width=\"2500\" height=\"399.5\" direction=\"ltr\" style=\"max-width: none; height: 399.5px; color: #000000; background: #ffffff; font-family: Arial; direction: ltr\">\n",
       "<text class=\"displacy-token\" fill=\"currentColor\" text-anchor=\"middle\" y=\"309.5\">\n",
       "    <tspan class=\"displacy-word\" fill=\"currentColor\" x=\"50\"> </tspan>\n",
       "    <tspan class=\"displacy-tag\" dy=\"2em\" fill=\"currentColor\" x=\"50\">SPACE</tspan>\n",
       "</text>\n",
       "\n",
       "<text class=\"displacy-token\" fill=\"currentColor\" text-anchor=\"middle\" y=\"309.5\">\n",
       "    <tspan class=\"displacy-word\" fill=\"currentColor\" x=\"225\">Slow</tspan>\n",
       "    <tspan class=\"displacy-tag\" dy=\"2em\" fill=\"currentColor\" x=\"225\">ADJ</tspan>\n",
       "</text>\n",
       "\n",
       "<text class=\"displacy-token\" fill=\"currentColor\" text-anchor=\"middle\" y=\"309.5\">\n",
       "    <tspan class=\"displacy-word\" fill=\"currentColor\" x=\"400\">service ,</tspan>\n",
       "    <tspan class=\"displacy-tag\" dy=\"2em\" fill=\"currentColor\" x=\"400\">NOUN</tspan>\n",
       "</text>\n",
       "\n",
       "<text class=\"displacy-token\" fill=\"currentColor\" text-anchor=\"middle\" y=\"309.5\">\n",
       "    <tspan class=\"displacy-word\" fill=\"currentColor\" x=\"575\">but</tspan>\n",
       "    <tspan class=\"displacy-tag\" dy=\"2em\" fill=\"currentColor\" x=\"575\">CCONJ</tspan>\n",
       "</text>\n",
       "\n",
       "<text class=\"displacy-token\" fill=\"currentColor\" text-anchor=\"middle\" y=\"309.5\">\n",
       "    <tspan class=\"displacy-word\" fill=\"currentColor\" x=\"750\">the</tspan>\n",
       "    <tspan class=\"displacy-tag\" dy=\"2em\" fill=\"currentColor\" x=\"750\">DET</tspan>\n",
       "</text>\n",
       "\n",
       "<text class=\"displacy-token\" fill=\"currentColor\" text-anchor=\"middle\" y=\"309.5\">\n",
       "    <tspan class=\"displacy-word\" fill=\"currentColor\" x=\"925\">waiter</tspan>\n",
       "    <tspan class=\"displacy-tag\" dy=\"2em\" fill=\"currentColor\" x=\"925\">NOUN</tspan>\n",
       "</text>\n",
       "\n",
       "<text class=\"displacy-token\" fill=\"currentColor\" text-anchor=\"middle\" y=\"309.5\">\n",
       "    <tspan class=\"displacy-word\" fill=\"currentColor\" x=\"1100\">were</tspan>\n",
       "    <tspan class=\"displacy-tag\" dy=\"2em\" fill=\"currentColor\" x=\"1100\">VERB</tspan>\n",
       "</text>\n",
       "\n",
       "<text class=\"displacy-token\" fill=\"currentColor\" text-anchor=\"middle\" y=\"309.5\">\n",
       "    <tspan class=\"displacy-word\" fill=\"currentColor\" x=\"1275\">friendly .</tspan>\n",
       "    <tspan class=\"displacy-tag\" dy=\"2em\" fill=\"currentColor\" x=\"1275\">ADJ</tspan>\n",
       "</text>\n",
       "\n",
       "<text class=\"displacy-token\" fill=\"currentColor\" text-anchor=\"middle\" y=\"309.5\">\n",
       "    <tspan class=\"displacy-word\" fill=\"currentColor\" x=\"1450\">He</tspan>\n",
       "    <tspan class=\"displacy-tag\" dy=\"2em\" fill=\"currentColor\" x=\"1450\">PRON</tspan>\n",
       "</text>\n",
       "\n",
       "<text class=\"displacy-token\" fill=\"currentColor\" text-anchor=\"middle\" y=\"309.5\">\n",
       "    <tspan class=\"displacy-word\" fill=\"currentColor\" x=\"1625\">kept</tspan>\n",
       "    <tspan class=\"displacy-tag\" dy=\"2em\" fill=\"currentColor\" x=\"1625\">VERB</tspan>\n",
       "</text>\n",
       "\n",
       "<text class=\"displacy-token\" fill=\"currentColor\" text-anchor=\"middle\" y=\"309.5\">\n",
       "    <tspan class=\"displacy-word\" fill=\"currentColor\" x=\"1800\">us</tspan>\n",
       "    <tspan class=\"displacy-tag\" dy=\"2em\" fill=\"currentColor\" x=\"1800\">PRON</tspan>\n",
       "</text>\n",
       "\n",
       "<text class=\"displacy-token\" fill=\"currentColor\" text-anchor=\"middle\" y=\"309.5\">\n",
       "    <tspan class=\"displacy-word\" fill=\"currentColor\" x=\"1975\">engaged</tspan>\n",
       "    <tspan class=\"displacy-tag\" dy=\"2em\" fill=\"currentColor\" x=\"1975\">VERB</tspan>\n",
       "</text>\n",
       "\n",
       "<text class=\"displacy-token\" fill=\"currentColor\" text-anchor=\"middle\" y=\"309.5\">\n",
       "    <tspan class=\"displacy-word\" fill=\"currentColor\" x=\"2150\">in</tspan>\n",
       "    <tspan class=\"displacy-tag\" dy=\"2em\" fill=\"currentColor\" x=\"2150\">ADP</tspan>\n",
       "</text>\n",
       "\n",
       "<text class=\"displacy-token\" fill=\"currentColor\" text-anchor=\"middle\" y=\"309.5\">\n",
       "    <tspan class=\"displacy-word\" fill=\"currentColor\" x=\"2325\">conversation</tspan>\n",
       "    <tspan class=\"displacy-tag\" dy=\"2em\" fill=\"currentColor\" x=\"2325\">NOUN</tspan>\n",
       "</text>\n",
       "\n",
       "<g class=\"displacy-arrow\">\n",
       "    <path class=\"displacy-arc\" id=\"arrow-8d107bd2d38b426cb0f03b513098b3c7-0-0\" stroke-width=\"2px\" d=\"M70,264.5 C70,177.0 215.0,177.0 215.0,264.5\" fill=\"none\" stroke=\"currentColor\"/>\n",
       "    <text dy=\"1.25em\" style=\"font-size: 0.8em; letter-spacing: 1px\">\n",
       "        <textPath xlink:href=\"#arrow-8d107bd2d38b426cb0f03b513098b3c7-0-0\" class=\"displacy-label\" startOffset=\"50%\" side=\"left\" fill=\"currentColor\" text-anchor=\"middle\"></textPath>\n",
       "    </text>\n",
       "    <path class=\"displacy-arrowhead\" d=\"M70,266.5 L62,254.5 78,254.5\" fill=\"currentColor\"/>\n",
       "</g>\n",
       "\n",
       "<g class=\"displacy-arrow\">\n",
       "    <path class=\"displacy-arc\" id=\"arrow-8d107bd2d38b426cb0f03b513098b3c7-0-1\" stroke-width=\"2px\" d=\"M245,264.5 C245,177.0 390.0,177.0 390.0,264.5\" fill=\"none\" stroke=\"currentColor\"/>\n",
       "    <text dy=\"1.25em\" style=\"font-size: 0.8em; letter-spacing: 1px\">\n",
       "        <textPath xlink:href=\"#arrow-8d107bd2d38b426cb0f03b513098b3c7-0-1\" class=\"displacy-label\" startOffset=\"50%\" side=\"left\" fill=\"currentColor\" text-anchor=\"middle\">dobj</textPath>\n",
       "    </text>\n",
       "    <path class=\"displacy-arrowhead\" d=\"M390.0,266.5 L398.0,254.5 382.0,254.5\" fill=\"currentColor\"/>\n",
       "</g>\n",
       "\n",
       "<g class=\"displacy-arrow\">\n",
       "    <path class=\"displacy-arc\" id=\"arrow-8d107bd2d38b426cb0f03b513098b3c7-0-2\" stroke-width=\"2px\" d=\"M245,264.5 C245,89.5 570.0,89.5 570.0,264.5\" fill=\"none\" stroke=\"currentColor\"/>\n",
       "    <text dy=\"1.25em\" style=\"font-size: 0.8em; letter-spacing: 1px\">\n",
       "        <textPath xlink:href=\"#arrow-8d107bd2d38b426cb0f03b513098b3c7-0-2\" class=\"displacy-label\" startOffset=\"50%\" side=\"left\" fill=\"currentColor\" text-anchor=\"middle\">cc</textPath>\n",
       "    </text>\n",
       "    <path class=\"displacy-arrowhead\" d=\"M570.0,266.5 L578.0,254.5 562.0,254.5\" fill=\"currentColor\"/>\n",
       "</g>\n",
       "\n",
       "<g class=\"displacy-arrow\">\n",
       "    <path class=\"displacy-arc\" id=\"arrow-8d107bd2d38b426cb0f03b513098b3c7-0-3\" stroke-width=\"2px\" d=\"M770,264.5 C770,177.0 915.0,177.0 915.0,264.5\" fill=\"none\" stroke=\"currentColor\"/>\n",
       "    <text dy=\"1.25em\" style=\"font-size: 0.8em; letter-spacing: 1px\">\n",
       "        <textPath xlink:href=\"#arrow-8d107bd2d38b426cb0f03b513098b3c7-0-3\" class=\"displacy-label\" startOffset=\"50%\" side=\"left\" fill=\"currentColor\" text-anchor=\"middle\">det</textPath>\n",
       "    </text>\n",
       "    <path class=\"displacy-arrowhead\" d=\"M770,266.5 L762,254.5 778,254.5\" fill=\"currentColor\"/>\n",
       "</g>\n",
       "\n",
       "<g class=\"displacy-arrow\">\n",
       "    <path class=\"displacy-arc\" id=\"arrow-8d107bd2d38b426cb0f03b513098b3c7-0-4\" stroke-width=\"2px\" d=\"M945,264.5 C945,177.0 1090.0,177.0 1090.0,264.5\" fill=\"none\" stroke=\"currentColor\"/>\n",
       "    <text dy=\"1.25em\" style=\"font-size: 0.8em; letter-spacing: 1px\">\n",
       "        <textPath xlink:href=\"#arrow-8d107bd2d38b426cb0f03b513098b3c7-0-4\" class=\"displacy-label\" startOffset=\"50%\" side=\"left\" fill=\"currentColor\" text-anchor=\"middle\">nsubj</textPath>\n",
       "    </text>\n",
       "    <path class=\"displacy-arrowhead\" d=\"M945,266.5 L937,254.5 953,254.5\" fill=\"currentColor\"/>\n",
       "</g>\n",
       "\n",
       "<g class=\"displacy-arrow\">\n",
       "    <path class=\"displacy-arc\" id=\"arrow-8d107bd2d38b426cb0f03b513098b3c7-0-5\" stroke-width=\"2px\" d=\"M245,264.5 C245,2.0 1100.0,2.0 1100.0,264.5\" fill=\"none\" stroke=\"currentColor\"/>\n",
       "    <text dy=\"1.25em\" style=\"font-size: 0.8em; letter-spacing: 1px\">\n",
       "        <textPath xlink:href=\"#arrow-8d107bd2d38b426cb0f03b513098b3c7-0-5\" class=\"displacy-label\" startOffset=\"50%\" side=\"left\" fill=\"currentColor\" text-anchor=\"middle\">conj</textPath>\n",
       "    </text>\n",
       "    <path class=\"displacy-arrowhead\" d=\"M1100.0,266.5 L1108.0,254.5 1092.0,254.5\" fill=\"currentColor\"/>\n",
       "</g>\n",
       "\n",
       "<g class=\"displacy-arrow\">\n",
       "    <path class=\"displacy-arc\" id=\"arrow-8d107bd2d38b426cb0f03b513098b3c7-0-6\" stroke-width=\"2px\" d=\"M1120,264.5 C1120,177.0 1265.0,177.0 1265.0,264.5\" fill=\"none\" stroke=\"currentColor\"/>\n",
       "    <text dy=\"1.25em\" style=\"font-size: 0.8em; letter-spacing: 1px\">\n",
       "        <textPath xlink:href=\"#arrow-8d107bd2d38b426cb0f03b513098b3c7-0-6\" class=\"displacy-label\" startOffset=\"50%\" side=\"left\" fill=\"currentColor\" text-anchor=\"middle\">acomp</textPath>\n",
       "    </text>\n",
       "    <path class=\"displacy-arrowhead\" d=\"M1265.0,266.5 L1273.0,254.5 1257.0,254.5\" fill=\"currentColor\"/>\n",
       "</g>\n",
       "\n",
       "<g class=\"displacy-arrow\">\n",
       "    <path class=\"displacy-arc\" id=\"arrow-8d107bd2d38b426cb0f03b513098b3c7-0-7\" stroke-width=\"2px\" d=\"M1470,264.5 C1470,177.0 1615.0,177.0 1615.0,264.5\" fill=\"none\" stroke=\"currentColor\"/>\n",
       "    <text dy=\"1.25em\" style=\"font-size: 0.8em; letter-spacing: 1px\">\n",
       "        <textPath xlink:href=\"#arrow-8d107bd2d38b426cb0f03b513098b3c7-0-7\" class=\"displacy-label\" startOffset=\"50%\" side=\"left\" fill=\"currentColor\" text-anchor=\"middle\">nsubj</textPath>\n",
       "    </text>\n",
       "    <path class=\"displacy-arrowhead\" d=\"M1470,266.5 L1462,254.5 1478,254.5\" fill=\"currentColor\"/>\n",
       "</g>\n",
       "\n",
       "<g class=\"displacy-arrow\">\n",
       "    <path class=\"displacy-arc\" id=\"arrow-8d107bd2d38b426cb0f03b513098b3c7-0-8\" stroke-width=\"2px\" d=\"M1645,264.5 C1645,177.0 1790.0,177.0 1790.0,264.5\" fill=\"none\" stroke=\"currentColor\"/>\n",
       "    <text dy=\"1.25em\" style=\"font-size: 0.8em; letter-spacing: 1px\">\n",
       "        <textPath xlink:href=\"#arrow-8d107bd2d38b426cb0f03b513098b3c7-0-8\" class=\"displacy-label\" startOffset=\"50%\" side=\"left\" fill=\"currentColor\" text-anchor=\"middle\">dobj</textPath>\n",
       "    </text>\n",
       "    <path class=\"displacy-arrowhead\" d=\"M1790.0,266.5 L1798.0,254.5 1782.0,254.5\" fill=\"currentColor\"/>\n",
       "</g>\n",
       "\n",
       "<g class=\"displacy-arrow\">\n",
       "    <path class=\"displacy-arc\" id=\"arrow-8d107bd2d38b426cb0f03b513098b3c7-0-9\" stroke-width=\"2px\" d=\"M1645,264.5 C1645,89.5 1970.0,89.5 1970.0,264.5\" fill=\"none\" stroke=\"currentColor\"/>\n",
       "    <text dy=\"1.25em\" style=\"font-size: 0.8em; letter-spacing: 1px\">\n",
       "        <textPath xlink:href=\"#arrow-8d107bd2d38b426cb0f03b513098b3c7-0-9\" class=\"displacy-label\" startOffset=\"50%\" side=\"left\" fill=\"currentColor\" text-anchor=\"middle\">oprd</textPath>\n",
       "    </text>\n",
       "    <path class=\"displacy-arrowhead\" d=\"M1970.0,266.5 L1978.0,254.5 1962.0,254.5\" fill=\"currentColor\"/>\n",
       "</g>\n",
       "\n",
       "<g class=\"displacy-arrow\">\n",
       "    <path class=\"displacy-arc\" id=\"arrow-8d107bd2d38b426cb0f03b513098b3c7-0-10\" stroke-width=\"2px\" d=\"M1995,264.5 C1995,177.0 2140.0,177.0 2140.0,264.5\" fill=\"none\" stroke=\"currentColor\"/>\n",
       "    <text dy=\"1.25em\" style=\"font-size: 0.8em; letter-spacing: 1px\">\n",
       "        <textPath xlink:href=\"#arrow-8d107bd2d38b426cb0f03b513098b3c7-0-10\" class=\"displacy-label\" startOffset=\"50%\" side=\"left\" fill=\"currentColor\" text-anchor=\"middle\">prep</textPath>\n",
       "    </text>\n",
       "    <path class=\"displacy-arrowhead\" d=\"M2140.0,266.5 L2148.0,254.5 2132.0,254.5\" fill=\"currentColor\"/>\n",
       "</g>\n",
       "\n",
       "<g class=\"displacy-arrow\">\n",
       "    <path class=\"displacy-arc\" id=\"arrow-8d107bd2d38b426cb0f03b513098b3c7-0-11\" stroke-width=\"2px\" d=\"M2170,264.5 C2170,177.0 2315.0,177.0 2315.0,264.5\" fill=\"none\" stroke=\"currentColor\"/>\n",
       "    <text dy=\"1.25em\" style=\"font-size: 0.8em; letter-spacing: 1px\">\n",
       "        <textPath xlink:href=\"#arrow-8d107bd2d38b426cb0f03b513098b3c7-0-11\" class=\"displacy-label\" startOffset=\"50%\" side=\"left\" fill=\"currentColor\" text-anchor=\"middle\">pobj</textPath>\n",
       "    </text>\n",
       "    <path class=\"displacy-arrowhead\" d=\"M2315.0,266.5 L2323.0,254.5 2307.0,254.5\" fill=\"currentColor\"/>\n",
       "</g>\n",
       "</svg>\n",
       "</figure>\n",
       "</body>\n",
       "</html>"
      ],
      "text/plain": [
       "<IPython.core.display.HTML object>"
      ]
     },
     "metadata": {},
     "output_type": "display_data"
    },
    {
     "name": "stdout",
     "output_type": "stream",
     "text": [
      "\n",
      "Using the 'dep' visualizer\n",
      "Serving on http://0.0.0.0:5000 ...\n",
      "\n",
      "Shutting down server on port 5000.\n"
     ]
    }
   ],
   "source": [
    "plot_dependencies(doc)"
   ]
  },
  {
   "cell_type": "code",
   "execution_count": null,
   "metadata": {},
   "outputs": [],
   "source": []
  }
 ],
 "metadata": {
  "kernelspec": {
   "display_name": "Python 3",
   "language": "python",
   "name": "python3"
  },
  "language_info": {
   "codemirror_mode": {
    "name": "ipython",
    "version": 3
   },
   "file_extension": ".py",
   "mimetype": "text/x-python",
   "name": "python",
   "nbconvert_exporter": "python",
   "pygments_lexer": "ipython3",
   "version": "3.8.3"
  }
 },
 "nbformat": 4,
 "nbformat_minor": 4
}
