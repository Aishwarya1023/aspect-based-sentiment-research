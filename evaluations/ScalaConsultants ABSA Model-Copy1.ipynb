{
 "cells": [
  {
   "cell_type": "code",
   "execution_count": 15,
   "metadata": {},
   "outputs": [],
   "source": [
    "import pytest\n",
    "import numpy as np\n",
    "import aspect_based_sentiment_analysis as absa\n",
    "from aspect_based_sentiment_analysis.training import ConfusionMatrix\n",
    "\n",
    "\n",
    "@pytest.fixture\n",
    "def nlp() -> absa.Pipeline:\n",
    "    sentencier = absa.sentencizer()\n",
    "    recognizer = absa.probing.AttentionGradientProduct()\n",
    "    nlp = absa.load(text_splitter=sentencier, pattern_recognizer=recognizer)\n",
    "    return nlp\n",
    "\n",
    "\n",
    "@pytest.mark.slow\n",
    "@pytest.mark.timeout(25)  # First 10s requires a pipeline to initialize.\n",
    "def test_inference(nlp: absa.Pipeline):\n",
    "    text = (\"We are great fans of Slack, but we wish the subscriptions \"\n",
    "        \"were more accessible to small startups.\")\n",
    "    aspects = [\"slack\",\"price\"]\n",
    "    return nlp(text, aspects)\n",
    "\n",
    "\n",
    "@pytest.mark.slow\n",
    "def test_semeval_classification_restaurants():\n",
    "    examples = absa.load_examples(dataset='semeval',\n",
    "                                  domain='laptop',\n",
    "                                  test=True)\n",
    "#     nlp = absa.load('absa/bert-lapt-0.1')\n",
    "\n",
    "    metric = ConfusionMatrix(num_classes=3)\n",
    "    confusion_matrix = nlp.evaluate(examples, metric, batch_size=32)\n",
    "    confusion_matrix = confusion_matrix.numpy()\n",
    "    accuracy = np.diagonal(confusion_matrix).sum() / confusion_matrix.sum()\n",
    "    assert round(accuracy, 3) >= 0.86\n",
    "    \n",
    "    print(\"Accuracy:\", accuracy)\n",
    "    return confusion_matrix\n"
   ]
  },
  {
   "cell_type": "code",
   "execution_count": 16,
   "metadata": {},
   "outputs": [
    {
     "name": "stderr",
     "output_type": "stream",
     "text": [
      "Some weights of the model checkpoint at absa/bert-lapt-0.1 were not used when initializing BertABSClassifier: ['dropout_37', 'extractor']\n",
      "- This IS expected if you are initializing BertABSClassifier from the checkpoint of a model trained on another task or with another architecture (e.g. initializing a BertForSequenceClassification model from a BertForPretraining model).\n",
      "- This IS NOT expected if you are initializing BertABSClassifier from the checkpoint of a model that you expect to be exactly identical (initializing a BertForSequenceClassification model from a BertForSequenceClassification model).\n",
      "Some weights of BertABSClassifier were not initialized from the model checkpoint at absa/bert-lapt-0.1 and are newly initialized: ['dropout_113']\n",
      "You should probably TRAIN this model on a down-stream task to be able to use it for predictions and inference.\n"
     ]
    }
   ],
   "source": [
    "nlp = absa.load('absa/bert-lapt-0.1')\n",
    "\n",
    "results = test_inference(nlp)"
   ]
  },
  {
   "cell_type": "code",
   "execution_count": 17,
   "metadata": {},
   "outputs": [
    {
     "name": "stdout",
     "output_type": "stream",
     "text": [
      "\n",
      " Aspect:  slack\n",
      "Sentiment:  Sentiment.negative\n",
      "\n",
      " Aspect:  price\n",
      "Sentiment:  Sentiment.negative\n"
     ]
    }
   ],
   "source": [
    "for aspect in results.aspects:\n",
    "    print(\"\\n Aspect: \", aspect)\n",
    "    print(\"Sentiment: \",results.subtasks[aspect].examples[0].sentiment)"
   ]
  },
  {
   "cell_type": "code",
   "execution_count": null,
   "metadata": {},
   "outputs": [],
   "source": []
  }
 ],
 "metadata": {
  "kernelspec": {
   "display_name": "Python 3",
   "language": "python",
   "name": "python3"
  },
  "language_info": {
   "codemirror_mode": {
    "name": "ipython",
    "version": 3
   },
   "file_extension": ".py",
   "mimetype": "text/x-python",
   "name": "python",
   "nbconvert_exporter": "python",
   "pygments_lexer": "ipython3",
   "version": "3.7.7"
  }
 },
 "nbformat": 4,
 "nbformat_minor": 4
}
